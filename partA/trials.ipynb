{
 "cells": [
  {
   "cell_type": "code",
   "execution_count": 1,
   "id": "c99705d4",
   "metadata": {},
   "outputs": [
    {
     "name": "stdout",
     "output_type": "stream",
     "text": [
      "GPU is available: NVIDIA GeForce RTX 3060 Laptop GPU\n"
     ]
    }
   ],
   "source": [
    "import torch\n",
    "import torch.nn as nn\n",
    "import torch.nn.functional as F\n",
    "from torch.utils.data import DataLoader\n",
    "from torchvision import datasets, transforms\n",
    "import pytorch_lightning as pl\n",
    "import wandb\n",
    "from pytorch_lightning.loggers import WandbLogger\n",
    "\n",
    "torch.set_float32_matmul_precision('medium')\n",
    "if torch.cuda.is_available():\n",
    "    print(f\"GPU is available: {torch.cuda.get_device_name(0)}\")\n",
    "else:\n",
    "    print(\"GPU is not available.\")"
   ]
  },
  {
   "cell_type": "code",
   "execution_count": 7,
   "id": "aad75ba0",
   "metadata": {},
   "outputs": [],
   "source": [
    "class myCNN(pl.LightningModule):\n",
    "    def __init__(self, input_channels=1, input_size=28, num_classes=10, filter_counts=[32], filter_sizes=[5], \n",
    "                 padding_sizes=[1], pooling_sizes=[2], pooling_strides=[2], pooling_paddings=[0], \n",
    "                 conv_activation='relu', learning_rate=0.001):\n",
    "        super().__init__()\n",
    "        self.save_hyperparameters()\n",
    "        \n",
    "        assert len(filter_counts) == len(filter_sizes) == len(padding_sizes) == \\\n",
    "            len(pooling_sizes) == len(pooling_strides) == len(pooling_paddings), \\\n",
    "            \"All layer parameter lists must have the same length\"\n",
    "                \n",
    "        self.conv_activation = {\n",
    "            'relu': F.relu,\n",
    "            'sigmoid': torch.sigmoid,\n",
    "            'tanh': torch.tanh\n",
    "        }.get(conv_activation.lower(), F.relu)\n",
    "        \n",
    "        self.convs = nn.ModuleList()\n",
    "        self.pools = nn.ModuleList()\n",
    "        \n",
    "        current_channels = input_channels\n",
    "        current_size = input_size\n",
    "        \n",
    "                \n",
    "        for i, (filter_count, filter_size, padding_size, pooling_size, pooling_stride, pooling_padding) in \\\n",
    "            enumerate(zip(filter_counts, filter_sizes, padding_sizes, pooling_sizes, pooling_strides, pooling_paddings)):\n",
    "            \n",
    "            conv = nn.Conv2d(in_channels=input_channels,\n",
    "                out_channels=filter_count,\n",
    "                kernel_size=filter_size,\n",
    "                stride=1,\n",
    "                padding=padding_size\n",
    "            )\n",
    "            self.convs.append(conv)\n",
    "            \n",
    "            current_size = ( current_size + 2 * padding_size - filter_size ) // 1 + 1\n",
    "            \n",
    "            pool = nn.MaxPool2d(kernel_size=pooling_size, \n",
    "                stride=pooling_stride, \n",
    "                padding=pooling_padding\n",
    "            )\n",
    "            self.pools.append(pool)\n",
    "            \n",
    "            current_size = ( current_size + 2 * pooling_padding - pooling_size) // pooling_stride + 1\n",
    "            \n",
    "            current_channels = filter_count\n",
    "            \n",
    "            \n",
    "        self.flat_size =  current_size * current_size * current_channels\n",
    "        self.fc = nn.Linear(self.flat_size, num_classes)\n",
    "        \n",
    "        self.learning_rate = learning_rate\n",
    "    \n",
    "    def forward(self, x):\n",
    "        \n",
    "        for conv, pool in zip(self.convs, self.pools):\n",
    "            x = self.conv_activation(conv(x))\n",
    "            x = pool(x)\n",
    "            \n",
    "        x = x.view(-1, self.flat_size)\n",
    "        x = self.fc(x)\n",
    "        \n",
    "        return x\n",
    "        \n",
    "    def training_step(self, batch, batch_idx):\n",
    "        x, y = batch\n",
    "        logits = self(x)\n",
    "        loss = F.cross_entropy(logits, y)\n",
    "        preds = torch.argmax(logits, dim=1)\n",
    "        acc = (preds == y).float().mean()\n",
    "        \n",
    "        self.log('train_loss', loss, prog_bar=True)\n",
    "        self.log('train_acc', acc, prog_bar=True)\n",
    "        \n",
    "        return loss\n",
    "    \n",
    "    def validation_step(self, batch, batch_idx):\n",
    "        x, y = batch\n",
    "        logits = self(x)\n",
    "        loss = F.cross_entropy(logits, y)\n",
    "        preds = torch.argmax(logits, dim=1)\n",
    "        acc = (preds == y).float().mean()\n",
    "        \n",
    "        # Log metrics\n",
    "        self.log('val_loss', loss, prog_bar=True)\n",
    "        self.log('val_acc', acc, prog_bar=True)\n",
    "        \n",
    "        return loss\n",
    "    \n",
    "    def test_step(self, batch, batch_idx):\n",
    "        x, y = batch\n",
    "        logits = self(x)\n",
    "        loss = F.cross_entropy(logits, y)\n",
    "        preds = torch.argmax(logits, dim=1)\n",
    "        acc = (preds == y).float().mean()\n",
    "        \n",
    "        # Log metrics\n",
    "        self.log('test_loss', loss, prog_bar=True)\n",
    "        self.log('test_acc', acc, prog_bar=True)\n",
    "        \n",
    "        return loss\n",
    "    \n",
    "    def configure_optimizers(self):\n",
    "        return torch.optim.Adam(self.parameters(), lr=self.learning_rate)\n",
    "    "
   ]
  },
  {
   "cell_type": "code",
   "execution_count": 3,
   "id": "d8648230",
   "metadata": {},
   "outputs": [],
   "source": [
    "transform = transforms.Compose([\n",
    "    transforms.ToTensor(),\n",
    "    transforms.Normalize((0.1307,), (0.3081,))\n",
    "])\n",
    "\n",
    "# Download and load the MNIST dataset\n",
    "train_dataset = datasets.MNIST('data', train=True, download=True, transform=transform)\n",
    "test_dataset = datasets.MNIST('data', train=False, transform=transform)\n",
    "\n",
    "# Create data loaders\n",
    "train_loader = DataLoader(train_dataset, batch_size=64, shuffle=True, num_workers=8, pin_memory=True)\n",
    "val_loader = DataLoader(test_dataset, batch_size=64, shuffle=False, num_workers=8, pin_memory=True)"
   ]
  },
  {
   "cell_type": "code",
   "execution_count": 4,
   "id": "4420a397",
   "metadata": {},
   "outputs": [
    {
     "name": "stderr",
     "output_type": "stream",
     "text": [
      "c:\\Users\\DELL\\.conda\\envs\\DL\\lib\\site-packages\\lightning_fabric\\connector.py:571: `precision=16` is supported for historical reasons but its usage is discouraged. Please set your precision to 16-mixed instead!\n",
      "Using 16bit Automatic Mixed Precision (AMP)\n",
      "You are using the plain ModelCheckpoint callback. Consider using LitModelCheckpoint which with seamless uploading to Model registry.\n",
      "GPU available: True (cuda), used: True\n",
      "TPU available: False, using: 0 TPU cores\n",
      "HPU available: False, using: 0 HPUs\n"
     ]
    }
   ],
   "source": [
    "model = myCNN().to('cuda')\n",
    "\n",
    "wandb_logger = WandbLogger(project=\"cnn-pytorch-lightning\", log_model=True)\n",
    "\n",
    "trainer = pl.Trainer(\n",
    "        max_epochs=1,\n",
    "        accelerator=\"gpu\",  # Uses GPU if available\n",
    "        logger=wandb_logger,\n",
    "        log_every_n_steps=500,\n",
    "        precision=16\n",
    "    )"
   ]
  },
  {
   "cell_type": "code",
   "execution_count": 5,
   "id": "6d7f8f2d",
   "metadata": {},
   "outputs": [
    {
     "name": "stderr",
     "output_type": "stream",
     "text": [
      "wandb: Using wandb-core as the SDK backend.  Please refer to https://wandb.me/wandb-core for more information.\n",
      "wandb: Currently logged in as: bullseye2608 (bullseye2608-indian-institute-of-technology-madras) to https://api.wandb.ai. Use `wandb login --relogin` to force relogin\n"
     ]
    },
    {
     "data": {
      "text/html": [
       "Tracking run with wandb version 0.19.7"
      ],
      "text/plain": [
       "<IPython.core.display.HTML object>"
      ]
     },
     "metadata": {},
     "output_type": "display_data"
    },
    {
     "data": {
      "text/html": [
       "Run data is saved locally in <code>.\\wandb\\run-20250417_210251-bhwun64m</code>"
      ],
      "text/plain": [
       "<IPython.core.display.HTML object>"
      ]
     },
     "metadata": {},
     "output_type": "display_data"
    },
    {
     "data": {
      "text/html": [
       "Syncing run <strong><a href='https://wandb.ai/bullseye2608-indian-institute-of-technology-madras/cnn-pytorch-lightning/runs/bhwun64m' target=\"_blank\">sparkling-hill-4</a></strong> to <a href='https://wandb.ai/bullseye2608-indian-institute-of-technology-madras/cnn-pytorch-lightning' target=\"_blank\">Weights & Biases</a> (<a href='https://wandb.me/developer-guide' target=\"_blank\">docs</a>)<br>"
      ],
      "text/plain": [
       "<IPython.core.display.HTML object>"
      ]
     },
     "metadata": {},
     "output_type": "display_data"
    },
    {
     "data": {
      "text/html": [
       " View project at <a href='https://wandb.ai/bullseye2608-indian-institute-of-technology-madras/cnn-pytorch-lightning' target=\"_blank\">https://wandb.ai/bullseye2608-indian-institute-of-technology-madras/cnn-pytorch-lightning</a>"
      ],
      "text/plain": [
       "<IPython.core.display.HTML object>"
      ]
     },
     "metadata": {},
     "output_type": "display_data"
    },
    {
     "data": {
      "text/html": [
       " View run at <a href='https://wandb.ai/bullseye2608-indian-institute-of-technology-madras/cnn-pytorch-lightning/runs/bhwun64m' target=\"_blank\">https://wandb.ai/bullseye2608-indian-institute-of-technology-madras/cnn-pytorch-lightning/runs/bhwun64m</a>"
      ],
      "text/plain": [
       "<IPython.core.display.HTML object>"
      ]
     },
     "metadata": {},
     "output_type": "display_data"
    },
    {
     "name": "stderr",
     "output_type": "stream",
     "text": [
      "LOCAL_RANK: 0 - CUDA_VISIBLE_DEVICES: [0]\n",
      "\n",
      "  | Name  | Type       | Params | Mode \n",
      "---------------------------------------------\n",
      "0 | convs | ModuleList | 832    | train\n",
      "1 | pools | ModuleList | 0      | train\n",
      "2 | fc    | Linear     | 54.1 K | train\n",
      "---------------------------------------------\n",
      "54.9 K    Trainable params\n",
      "0         Non-trainable params\n",
      "54.9 K    Total params\n",
      "0.220     Total estimated model params size (MB)\n",
      "5         Modules in train mode\n",
      "0         Modules in eval mode\n"
     ]
    },
    {
     "data": {
      "application/vnd.jupyter.widget-view+json": {
       "model_id": "e347f16b386d42109447f29b7ddd3c34",
       "version_major": 2,
       "version_minor": 0
      },
      "text/plain": [
       "Sanity Checking: |          | 0/? [00:00<?, ?it/s]"
      ]
     },
     "metadata": {},
     "output_type": "display_data"
    },
    {
     "name": "stderr",
     "output_type": "stream",
     "text": [
      "c:\\Users\\DELL\\.conda\\envs\\DL\\lib\\site-packages\\pytorch_lightning\\trainer\\connectors\\data_connector.py:420: Consider setting `persistent_workers=True` in 'val_dataloader' to speed up the dataloader worker initialization.\n",
      "c:\\Users\\DELL\\.conda\\envs\\DL\\lib\\site-packages\\pytorch_lightning\\trainer\\connectors\\data_connector.py:420: Consider setting `persistent_workers=True` in 'train_dataloader' to speed up the dataloader worker initialization.\n"
     ]
    },
    {
     "data": {
      "application/vnd.jupyter.widget-view+json": {
       "model_id": "aaf95b07434a465fa77724117a087128",
       "version_major": 2,
       "version_minor": 0
      },
      "text/plain": [
       "Training: |          | 0/? [00:00<?, ?it/s]"
      ]
     },
     "metadata": {},
     "output_type": "display_data"
    },
    {
     "data": {
      "application/vnd.jupyter.widget-view+json": {
       "model_id": "874f6e909398468282dc4479741b7612",
       "version_major": 2,
       "version_minor": 0
      },
      "text/plain": [
       "Validation: |          | 0/? [00:00<?, ?it/s]"
      ]
     },
     "metadata": {},
     "output_type": "display_data"
    },
    {
     "name": "stderr",
     "output_type": "stream",
     "text": [
      "`Trainer.fit` stopped: `max_epochs=1` reached.\n"
     ]
    }
   ],
   "source": [
    "trainer.fit(model, train_loader, val_loader)"
   ]
  },
  {
   "cell_type": "code",
   "execution_count": 6,
   "id": "792e89a0",
   "metadata": {},
   "outputs": [
    {
     "name": "stderr",
     "output_type": "stream",
     "text": [
      "c:\\Users\\DELL\\.conda\\envs\\DL\\lib\\site-packages\\pytorch_lightning\\trainer\\connectors\\checkpoint_connector.py:149: `.test(ckpt_path=None)` was called without a model. The best model of the previous `fit` call will be used. You can pass `.test(ckpt_path='best')` to use the best model or `.test(ckpt_path='last')` to use the last model. If you pass a value, this warning will be silenced.\n",
      "Restoring states from the checkpoint path at .\\cnn-pytorch-lightning\\bhwun64m\\checkpoints\\epoch=0-step=938.ckpt\n",
      "LOCAL_RANK: 0 - CUDA_VISIBLE_DEVICES: [0]\n",
      "Loaded model weights from the checkpoint at .\\cnn-pytorch-lightning\\bhwun64m\\checkpoints\\epoch=0-step=938.ckpt\n",
      "c:\\Users\\DELL\\.conda\\envs\\DL\\lib\\site-packages\\pytorch_lightning\\trainer\\connectors\\data_connector.py:420: Consider setting `persistent_workers=True` in 'test_dataloader' to speed up the dataloader worker initialization.\n"
     ]
    },
    {
     "data": {
      "application/vnd.jupyter.widget-view+json": {
       "model_id": "a1f9c3608c034619852d95eb6d640d79",
       "version_major": 2,
       "version_minor": 0
      },
      "text/plain": [
       "Testing: |          | 0/? [00:00<?, ?it/s]"
      ]
     },
     "metadata": {},
     "output_type": "display_data"
    },
    {
     "data": {
      "text/html": [
       "<pre style=\"white-space:pre;overflow-x:auto;line-height:normal;font-family:Menlo,'DejaVu Sans Mono',consolas,'Courier New',monospace\">┏━━━━━━━━━━━━━━━━━━━━━━━━━━━┳━━━━━━━━━━━━━━━━━━━━━━━━━━━┓\n",
       "┃<span style=\"font-weight: bold\">        Test metric        </span>┃<span style=\"font-weight: bold\">       DataLoader 0        </span>┃\n",
       "┡━━━━━━━━━━━━━━━━━━━━━━━━━━━╇━━━━━━━━━━━━━━━━━━━━━━━━━━━┩\n",
       "│<span style=\"color: #008080; text-decoration-color: #008080\">         test_acc          </span>│<span style=\"color: #800080; text-decoration-color: #800080\">    0.9801999926567078     </span>│\n",
       "│<span style=\"color: #008080; text-decoration-color: #008080\">         test_loss         </span>│<span style=\"color: #800080; text-decoration-color: #800080\">    0.06546204537153244    </span>│\n",
       "└───────────────────────────┴───────────────────────────┘\n",
       "</pre>\n"
      ],
      "text/plain": [
       "┏━━━━━━━━━━━━━━━━━━━━━━━━━━━┳━━━━━━━━━━━━━━━━━━━━━━━━━━━┓\n",
       "┃\u001b[1m \u001b[0m\u001b[1m       Test metric       \u001b[0m\u001b[1m \u001b[0m┃\u001b[1m \u001b[0m\u001b[1m      DataLoader 0       \u001b[0m\u001b[1m \u001b[0m┃\n",
       "┡━━━━━━━━━━━━━━━━━━━━━━━━━━━╇━━━━━━━━━━━━━━━━━━━━━━━━━━━┩\n",
       "│\u001b[36m \u001b[0m\u001b[36m        test_acc         \u001b[0m\u001b[36m \u001b[0m│\u001b[35m \u001b[0m\u001b[35m   0.9801999926567078    \u001b[0m\u001b[35m \u001b[0m│\n",
       "│\u001b[36m \u001b[0m\u001b[36m        test_loss        \u001b[0m\u001b[36m \u001b[0m│\u001b[35m \u001b[0m\u001b[35m   0.06546204537153244   \u001b[0m\u001b[35m \u001b[0m│\n",
       "└───────────────────────────┴───────────────────────────┘\n"
      ]
     },
     "metadata": {},
     "output_type": "display_data"
    },
    {
     "data": {
      "text/html": [],
      "text/plain": [
       "<IPython.core.display.HTML object>"
      ]
     },
     "metadata": {},
     "output_type": "display_data"
    },
    {
     "data": {
      "text/html": [
       "<br>    <style><br>        .wandb-row {<br>            display: flex;<br>            flex-direction: row;<br>            flex-wrap: wrap;<br>            justify-content: flex-start;<br>            width: 100%;<br>        }<br>        .wandb-col {<br>            display: flex;<br>            flex-direction: column;<br>            flex-basis: 100%;<br>            flex: 1;<br>            padding: 10px;<br>        }<br>    </style><br><div class=\"wandb-row\"><div class=\"wandb-col\"><h3>Run history:</h3><br/><table class=\"wandb\"><tr><td>epoch</td><td>▁▁█</td></tr><tr><td>test_acc</td><td>▁</td></tr><tr><td>test_loss</td><td>▁</td></tr><tr><td>train_acc</td><td>▁</td></tr><tr><td>train_loss</td><td>▁</td></tr><tr><td>trainer/global_step</td><td>▁██</td></tr><tr><td>val_acc</td><td>▁</td></tr><tr><td>val_loss</td><td>▁</td></tr></table><br/></div><div class=\"wandb-col\"><h3>Run summary:</h3><br/><table class=\"wandb\"><tr><td>epoch</td><td>1</td></tr><tr><td>test_acc</td><td>0.9802</td></tr><tr><td>test_loss</td><td>0.06546</td></tr><tr><td>train_acc</td><td>0.98438</td></tr><tr><td>train_loss</td><td>0.05502</td></tr><tr><td>trainer/global_step</td><td>938</td></tr><tr><td>val_acc</td><td>0.9802</td></tr><tr><td>val_loss</td><td>0.06546</td></tr></table><br/></div></div>"
      ],
      "text/plain": [
       "<IPython.core.display.HTML object>"
      ]
     },
     "metadata": {},
     "output_type": "display_data"
    },
    {
     "data": {
      "text/html": [
       " View run <strong style=\"color:#cdcd00\">sparkling-hill-4</strong> at: <a href='https://wandb.ai/bullseye2608-indian-institute-of-technology-madras/cnn-pytorch-lightning/runs/bhwun64m' target=\"_blank\">https://wandb.ai/bullseye2608-indian-institute-of-technology-madras/cnn-pytorch-lightning/runs/bhwun64m</a><br> View project at: <a href='https://wandb.ai/bullseye2608-indian-institute-of-technology-madras/cnn-pytorch-lightning' target=\"_blank\">https://wandb.ai/bullseye2608-indian-institute-of-technology-madras/cnn-pytorch-lightning</a><br>Synced 5 W&B file(s), 0 media file(s), 2 artifact file(s) and 0 other file(s)"
      ],
      "text/plain": [
       "<IPython.core.display.HTML object>"
      ]
     },
     "metadata": {},
     "output_type": "display_data"
    },
    {
     "data": {
      "text/html": [
       "Find logs at: <code>.\\wandb\\run-20250417_210251-bhwun64m\\logs</code>"
      ],
      "text/plain": [
       "<IPython.core.display.HTML object>"
      ]
     },
     "metadata": {},
     "output_type": "display_data"
    }
   ],
   "source": [
    "trainer.test(dataloaders=val_loader)\n",
    "wandb.finish()"
   ]
  },
  {
   "cell_type": "markdown",
   "id": "18ec5938",
   "metadata": {},
   "source": [
    "## Main\n"
   ]
  },
  {
   "cell_type": "code",
   "execution_count": null,
   "id": "2d076f09",
   "metadata": {},
   "outputs": [],
   "source": [
    "import torch\n",
    "import torch.nn as nn\n",
    "import torch.nn.functional as F\n",
    "from torch.utils.data import DataLoader, Dataset, random_split\n",
    "import torchvision.transforms as transforms\n",
    "from torchvision.datasets import ImageFolder\n",
    "import pytorch_lightning as pl\n",
    "from pytorch_lightning.callbacks import ModelCheckpoint\n",
    "from pytorch_lightning.loggers import TensorBoardLogger\n",
    "import os\n",
    "import argparse\n",
    "from typing import List, Tuple, Callable, Union, Type\n",
    "\n",
    "class FlexibleCNN(pl.LightningModule):\n",
    "    def __init__(\n",
    "        self,\n",
    "        input_channels: int = 3,\n",
    "        num_classes: int = 10,\n",
    "        conv_filters: List[int] = [32, 64, 128, 256, 512],\n",
    "        kernel_sizes: Union[int, List[int]] = 3,\n",
    "        conv_activation: Union[str, Type[nn.Module]] = \"relu\",\n",
    "        dense_neurons: int = 512,\n",
    "        dense_activation: Union[str, Type[nn.Module]] = \"relu\",\n",
    "        pooling_size: Union[int, List[int]] = 2,\n",
    "        learning_rate: float = 0.001\n",
    "    ):\n",
    "        \"\"\"\n",
    "        Flexible CNN model with 5 conv-activation-maxpool blocks\n",
    "        \n",
    "        Args:\n",
    "            input_channels: Number of input image channels (3 for RGB)\n",
    "            num_classes: Number of output classes\n",
    "            conv_filters: List of filter counts for each conv layer\n",
    "            kernel_sizes: Kernel size for conv layers (int or list)\n",
    "            conv_activation: Activation function for conv layers\n",
    "            dense_neurons: Number of neurons in the dense layer\n",
    "            dense_activation: Activation function for dense layer\n",
    "            pooling_size: Max pooling size (int or list)\n",
    "            learning_rate: Learning rate for optimizer\n",
    "        \"\"\"\n",
    "        super().__init__()\n",
    "        self.save_hyperparameters()\n",
    "        \n",
    "        # Convert activation strings to functions\n",
    "        self.conv_activation = self._get_activation(conv_activation)\n",
    "        self.dense_activation = self._get_activation(dense_activation)\n",
    "        \n",
    "        # Convert single value to lists if needed\n",
    "        if isinstance(kernel_sizes, int):\n",
    "            kernel_sizes = [kernel_sizes] * 5\n",
    "        if isinstance(pooling_size, int):\n",
    "            pooling_size = [pooling_size] * 5\n",
    "            \n",
    "        # Create 5 convolution blocks\n",
    "        self.conv_blocks = nn.ModuleList()\n",
    "        in_channels = input_channels\n",
    "        \n",
    "        for i in range(5):\n",
    "            conv_block = nn.Sequential(\n",
    "                nn.Conv2d(in_channels, conv_filters[i], kernel_size=kernel_sizes[i], padding=kernel_sizes[i]//2),\n",
    "                self._get_activation_layer(self.conv_activation),\n",
    "                nn.MaxPool2d(kernel_size=pooling_size[i], stride=pooling_size[i])\n",
    "            )\n",
    "            self.conv_blocks.append(conv_block)\n",
    "            in_channels = conv_filters[i]\n",
    "        \n",
    "        # Calculate the size of the flattened features\n",
    "        # Assuming input image size is 224x224 (common for iNaturalist)\n",
    "        # Each pooling with size 2 reduces dimensions by half\n",
    "        final_size = 224 // (2 ** 5)  # After 5 pooling layers\n",
    "        self.flat_size = final_size * final_size * conv_filters[-1]\n",
    "        \n",
    "        # Dense layer\n",
    "        self.fc1 = nn.Linear(self.flat_size, dense_neurons)\n",
    "        \n",
    "        # Output layer\n",
    "        self.fc2 = nn.Linear(dense_neurons, num_classes)\n",
    "        \n",
    "        self.learning_rate = learning_rate\n",
    "    \n",
    "    def _get_activation(self, activation):\n",
    "        \"\"\"Convert activation name to function or return the provided activation\"\"\"\n",
    "        if isinstance(activation, str):\n",
    "            activation = activation.lower()\n",
    "            if activation == 'relu':\n",
    "                return F.relu\n",
    "            elif activation == 'leaky_relu':\n",
    "                return F.leaky_relu\n",
    "            elif activation == 'elu':\n",
    "                return F.elu\n",
    "            elif activation == 'tanh':\n",
    "                return F.tanh\n",
    "            elif activation == 'sigmoid':\n",
    "                return F.sigmoid\n",
    "            else:\n",
    "                raise ValueError(f\"Unsupported activation: {activation}\")\n",
    "        return activation\n",
    "    \n",
    "    def _get_activation_layer(self, activation_fn):\n",
    "        \"\"\"Convert activation function to layer\"\"\"\n",
    "        if activation_fn == F.relu:\n",
    "            return nn.ReLU()\n",
    "        elif activation_fn == F.leaky_relu:\n",
    "            return nn.LeakyReLU()\n",
    "        elif activation_fn == F.elu:\n",
    "            return nn.ELU()\n",
    "        elif activation_fn == F.tanh:\n",
    "            return nn.Tanh()\n",
    "        elif activation_fn == F.sigmoid:\n",
    "            return nn.Sigmoid()\n",
    "        else:\n",
    "            # For custom activations, use a Lambda layer\n",
    "            return nn.Identity()  # Placeholder, will use functional activation in forward\n",
    "    \n",
    "    def forward(self, x):\n",
    "        # Apply all conv blocks\n",
    "        for block in self.conv_blocks:\n",
    "            x = block(x)\n",
    "        \n",
    "        # Flatten\n",
    "        x = x.view(x.size(0), -1)\n",
    "        \n",
    "        # Apply dense layer with activation\n",
    "        x = self.dense_activation(self.fc1(x))\n",
    "        \n",
    "        # Output layer\n",
    "        x = self.fc2(x)\n",
    "        \n",
    "        return x\n",
    "    \n",
    "    def training_step(self, batch, batch_idx):\n",
    "        x, y = batch\n",
    "        logits = self(x)\n",
    "        loss = F.cross_entropy(logits, y)\n",
    "        preds = torch.argmax(logits, dim=1)\n",
    "        acc = (preds == y).float().mean()\n",
    "        \n",
    "        # Log metrics\n",
    "        self.log('train_loss', loss, on_step=True, on_epoch=True, prog_bar=True)\n",
    "        self.log('train_acc', acc, on_step=True, on_epoch=True, prog_bar=True)\n",
    "        \n",
    "        return loss\n",
    "    \n",
    "    def validation_step(self, batch, batch_idx):\n",
    "        x, y = batch\n",
    "        logits = self(x)\n",
    "        loss = F.cross_entropy(logits, y)\n",
    "        preds = torch.argmax(logits, dim=1)\n",
    "        acc = (preds == y).float().mean()\n",
    "        \n",
    "        # Log metrics\n",
    "        self.log('val_loss', loss, prog_bar=True)\n",
    "        self.log('val_acc', acc, prog_bar=True)\n",
    "        \n",
    "        return loss\n",
    "    \n",
    "    def test_step(self, batch, batch_idx):\n",
    "        x, y = batch\n",
    "        logits = self(x)\n",
    "        loss = F.cross_entropy(logits, y)\n",
    "        preds = torch.argmax(logits, dim=1)\n",
    "        acc = (preds == y).float().mean()\n",
    "        \n",
    "        # Log metrics\n",
    "        self.log('test_loss', loss)\n",
    "        self.log('test_acc', acc)\n",
    "        \n",
    "        return loss\n",
    "    \n",
    "    def configure_optimizers(self):\n",
    "        return torch.optim.Adam(self.parameters(), lr=self.learning_rate)\n",
    "\n",
    "\n",
    "class iNaturalistDataModule(pl.LightningDataModule):\n",
    "    def __init__(\n",
    "        self, \n",
    "        data_dir: str,\n",
    "        batch_size: int = 64,\n",
    "        num_workers: int = 8,\n",
    "        image_size: int = 224\n",
    "    ):\n",
    "        super().__init__()\n",
    "        self.train_data_dir = os.path.join(data_dir, 'train')\n",
    "        self.test_data_dir = os.path.join(data_dir, 'val')\n",
    "        self.batch_size = batch_size\n",
    "        self.num_workers = num_workers\n",
    "        self.image_size = image_size\n",
    "        \n",
    "    def setup(self, stage=None):\n",
    "        # Data transformations\n",
    "        train_transforms = transforms.Compose([\n",
    "            transforms.Resize((self.image_size, self.image_size)),\n",
    "            transforms.RandomHorizontalFlip(),\n",
    "            transforms.RandomRotation(10),\n",
    "            transforms.ToTensor(),\n",
    "            transforms.Normalize(mean=[0.485, 0.456, 0.406], std=[0.229, 0.224, 0.225])\n",
    "        ])\n",
    "        \n",
    "        val_transforms = transforms.Compose([\n",
    "            transforms.Resize((self.image_size, self.image_size)),\n",
    "            transforms.ToTensor(),\n",
    "            transforms.Normalize(mean=[0.485, 0.456, 0.406], std=[0.229, 0.224, 0.225])\n",
    "        ])\n",
    "        \n",
    "        # Load dataset\n",
    "        dataset = ImageFolder(root=self.train_data_dir, transform=train_transforms)\n",
    "        \n",
    "        # Split dataset\n",
    "        dataset_size = len(dataset)\n",
    "        train_size = int(0.8 * dataset_size)\n",
    "        val_size = dataset_size - train_size\n",
    "        \n",
    "        self.train_dataset, self.val_dataset = random_split(\n",
    "            dataset, [train_size, val_size]\n",
    "        )\n",
    "        \n",
    "        # Apply different transforms to validation set\n",
    "        self.val_dataset.dataset = ImageFolder(root=self.train_data_dir, transform=val_transforms)\n",
    "        \n",
    "        self.test_dataset = ImageFolder(root=self.test_data_dir, transform=val_transforms)\n",
    "        \n",
    "    def train_dataloader(self):\n",
    "        return DataLoader(\n",
    "            self.train_dataset,\n",
    "            batch_size=self.batch_size,\n",
    "            shuffle=True,\n",
    "            num_workers=self.num_workers,\n",
    "            pin_memory=True\n",
    "        )\n",
    "    \n",
    "    def val_dataloader(self):\n",
    "        return DataLoader(\n",
    "            self.val_dataset,\n",
    "            batch_size=self.batch_size,\n",
    "            shuffle=False,\n",
    "            num_workers=self.num_workers,\n",
    "            pin_memory=True\n",
    "        )\n",
    "    \n",
    "    def test_dataloader(self):\n",
    "        return DataLoader(\n",
    "            self.test_dataset,\n",
    "            batch_size=self.batch_size,\n",
    "            shuffle=False,\n",
    "            num_workers=self.num_workers,\n",
    "            pin_memory=True\n",
    "        )\n"
   ]
  },
  {
   "cell_type": "code",
   "execution_count": null,
   "id": "2de151b1",
   "metadata": {},
   "outputs": [
    {
     "name": "stdout",
     "output_type": "stream",
     "text": [
      "Dataset ImageFolder\n",
      "    Number of datapoints: 2000\n",
      "    Root location: C:\\Users\\DELL\\Desktop\\Coding\\Python\\DL\\Assignment 2\\da6401_assignment2\\data\\inaturalist_12K\\val\n",
      "    StandardTransform\n",
      "Transform: Compose(\n",
      "               Resize(size=(224, 224), interpolation=bilinear, max_size=None, antialias=True)\n",
      "               ToTensor()\n",
      "               Normalize(mean=[0.485, 0.456, 0.406], std=[0.229, 0.224, 0.225])\n",
      "           )\n"
     ]
    }
   ],
   "source": [
    "data_directory = r'C:\\Users\\DELL\\Desktop\\Coding\\Python\\DL\\Assignment 2\\da6401_assignment2\\data\\inaturalist_12K'\n",
    "data_module = iNaturalistDataModule(\n",
    "        data_dir=data_directory\n",
    "        batch_size=64\n",
    "    )\n",
    "data_module.setup()"
   ]
  },
  {
   "cell_type": "code",
   "execution_count": 58,
   "id": "10afef19",
   "metadata": {},
   "outputs": [
    {
     "name": "stdout",
     "output_type": "stream",
     "text": [
      "2016 2048\n"
     ]
    }
   ],
   "source": [
    "print(len(data_module.test_dataloader()) * 63, len(data_module.test_dataloader()) * 64)"
   ]
  },
  {
   "cell_type": "code",
   "execution_count": null,
   "id": "84f5bb46",
   "metadata": {},
   "outputs": [
    {
     "data": {
      "text/plain": [
       "9984"
      ]
     },
     "execution_count": 52,
     "metadata": {},
     "output_type": "execute_result"
    }
   ],
   "source": []
  },
  {
   "cell_type": "code",
   "execution_count": null,
   "id": "12f420b5",
   "metadata": {},
   "outputs": [],
   "source": []
  }
 ],
 "metadata": {
  "kernelspec": {
   "display_name": "DL",
   "language": "python",
   "name": "python3"
  },
  "language_info": {
   "codemirror_mode": {
    "name": "ipython",
    "version": 3
   },
   "file_extension": ".py",
   "mimetype": "text/x-python",
   "name": "python",
   "nbconvert_exporter": "python",
   "pygments_lexer": "ipython3",
   "version": "3.10.14"
  }
 },
 "nbformat": 4,
 "nbformat_minor": 5
}
