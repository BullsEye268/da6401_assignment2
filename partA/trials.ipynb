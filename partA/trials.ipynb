{
 "cells": [
  {
   "cell_type": "markdown",
   "id": "1744d875",
   "metadata": {},
   "source": [
    "## Base"
   ]
  },
  {
   "cell_type": "code",
   "execution_count": 1,
   "id": "c99705d4",
   "metadata": {},
   "outputs": [
    {
     "name": "stdout",
     "output_type": "stream",
     "text": [
      "GPU is available: NVIDIA GeForce RTX 3060 Laptop GPU\n"
     ]
    }
   ],
   "source": [
    "import torch\n",
    "import torch.nn as nn\n",
    "import torch.nn.functional as F\n",
    "from torch.utils.data import DataLoader\n",
    "from torchvision import datasets, transforms\n",
    "import pytorch_lightning as pl\n",
    "import wandb\n",
    "from pytorch_lightning.loggers import WandbLogger\n",
    "\n",
    "torch.set_float32_matmul_precision('medium')\n",
    "if torch.cuda.is_available():\n",
    "    print(f\"GPU is available: {torch.cuda.get_device_name(0)}\")\n",
    "else:\n",
    "    print(\"GPU is not available.\")"
   ]
  },
  {
   "cell_type": "code",
   "execution_count": 7,
   "id": "aad75ba0",
   "metadata": {},
   "outputs": [],
   "source": [
    "class myCNN(pl.LightningModule):\n",
    "    def __init__(self, input_channels=1, input_size=28, num_classes=10, filter_counts=[32], filter_sizes=[5], \n",
    "                 padding_sizes=[1], pooling_sizes=[2], pooling_strides=[2], pooling_paddings=[0], \n",
    "                 conv_activation='relu', learning_rate=0.001):\n",
    "        super().__init__()\n",
    "        self.save_hyperparameters()\n",
    "        \n",
    "        assert len(filter_counts) == len(filter_sizes) == len(padding_sizes) == \\\n",
    "            len(pooling_sizes) == len(pooling_strides) == len(pooling_paddings), \\\n",
    "            \"All layer parameter lists must have the same length\"\n",
    "                \n",
    "        self.conv_activation = {\n",
    "            'relu': F.relu,\n",
    "            'sigmoid': torch.sigmoid,\n",
    "            'tanh': torch.tanh\n",
    "        }.get(conv_activation.lower(), F.relu)\n",
    "        \n",
    "        self.convs = nn.ModuleList()\n",
    "        self.pools = nn.ModuleList()\n",
    "        \n",
    "        current_channels = input_channels\n",
    "        current_size = input_size\n",
    "        \n",
    "                \n",
    "        for i, (filter_count, filter_size, padding_size, pooling_size, pooling_stride, pooling_padding) in \\\n",
    "            enumerate(zip(filter_counts, filter_sizes, padding_sizes, pooling_sizes, pooling_strides, pooling_paddings)):\n",
    "            \n",
    "            conv = nn.Conv2d(in_channels=input_channels,\n",
    "                out_channels=filter_count,\n",
    "                kernel_size=filter_size,\n",
    "                stride=1,\n",
    "                padding=padding_size\n",
    "            )\n",
    "            self.convs.append(conv)\n",
    "            \n",
    "            current_size = ( current_size + 2 * padding_size - filter_size ) // 1 + 1\n",
    "            \n",
    "            pool = nn.MaxPool2d(kernel_size=pooling_size, \n",
    "                stride=pooling_stride, \n",
    "                padding=pooling_padding\n",
    "            )\n",
    "            self.pools.append(pool)\n",
    "            \n",
    "            current_size = ( current_size + 2 * pooling_padding - pooling_size) // pooling_stride + 1\n",
    "            \n",
    "            current_channels = filter_count\n",
    "            \n",
    "            \n",
    "        self.flat_size =  current_size * current_size * current_channels\n",
    "        self.fc = nn.Linear(self.flat_size, num_classes)\n",
    "        \n",
    "        self.learning_rate = learning_rate\n",
    "    \n",
    "    def forward(self, x):\n",
    "        \n",
    "        for conv, pool in zip(self.convs, self.pools):\n",
    "            x = self.conv_activation(conv(x))\n",
    "            x = pool(x)\n",
    "            \n",
    "        x = x.view(-1, self.flat_size)\n",
    "        x = self.fc(x)\n",
    "        \n",
    "        return x\n",
    "        \n",
    "    def training_step(self, batch, batch_idx):\n",
    "        x, y = batch\n",
    "        logits = self(x)\n",
    "        loss = F.cross_entropy(logits, y)\n",
    "        preds = torch.argmax(logits, dim=1)\n",
    "        acc = (preds == y).float().mean()\n",
    "        \n",
    "        self.log('train_loss', loss, prog_bar=True)\n",
    "        self.log('train_acc', acc, prog_bar=True)\n",
    "        \n",
    "        return loss\n",
    "    \n",
    "    def validation_step(self, batch, batch_idx):\n",
    "        x, y = batch\n",
    "        logits = self(x)\n",
    "        loss = F.cross_entropy(logits, y)\n",
    "        preds = torch.argmax(logits, dim=1)\n",
    "        acc = (preds == y).float().mean()\n",
    "        \n",
    "        # Log metrics\n",
    "        self.log('val_loss', loss, prog_bar=True)\n",
    "        self.log('val_acc', acc, prog_bar=True)\n",
    "        \n",
    "        return loss\n",
    "    \n",
    "    def test_step(self, batch, batch_idx):\n",
    "        x, y = batch\n",
    "        logits = self(x)\n",
    "        loss = F.cross_entropy(logits, y)\n",
    "        preds = torch.argmax(logits, dim=1)\n",
    "        acc = (preds == y).float().mean()\n",
    "        \n",
    "        # Log metrics\n",
    "        self.log('test_loss', loss, prog_bar=True)\n",
    "        self.log('test_acc', acc, prog_bar=True)\n",
    "        \n",
    "        return loss\n",
    "    \n",
    "    def configure_optimizers(self):\n",
    "        return torch.optim.Adam(self.parameters(), lr=self.learning_rate)\n",
    "    "
   ]
  },
  {
   "cell_type": "code",
   "execution_count": 3,
   "id": "d8648230",
   "metadata": {},
   "outputs": [],
   "source": [
    "transform = transforms.Compose([\n",
    "    transforms.ToTensor(),\n",
    "    transforms.Normalize((0.1307,), (0.3081,))\n",
    "])\n",
    "\n",
    "# Download and load the MNIST dataset\n",
    "train_dataset = datasets.MNIST('data', train=True, download=True, transform=transform)\n",
    "test_dataset = datasets.MNIST('data', train=False, transform=transform)\n",
    "\n",
    "# Create data loaders\n",
    "train_loader = DataLoader(train_dataset, batch_size=64, shuffle=True, num_workers=8, pin_memory=True)\n",
    "val_loader = DataLoader(test_dataset, batch_size=64, shuffle=False, num_workers=8, pin_memory=True)"
   ]
  },
  {
   "cell_type": "code",
   "execution_count": 4,
   "id": "4420a397",
   "metadata": {},
   "outputs": [
    {
     "name": "stderr",
     "output_type": "stream",
     "text": [
      "c:\\Users\\DELL\\.conda\\envs\\DL\\lib\\site-packages\\lightning_fabric\\connector.py:571: `precision=16` is supported for historical reasons but its usage is discouraged. Please set your precision to 16-mixed instead!\n",
      "Using 16bit Automatic Mixed Precision (AMP)\n",
      "You are using the plain ModelCheckpoint callback. Consider using LitModelCheckpoint which with seamless uploading to Model registry.\n",
      "GPU available: True (cuda), used: True\n",
      "TPU available: False, using: 0 TPU cores\n",
      "HPU available: False, using: 0 HPUs\n"
     ]
    }
   ],
   "source": [
    "model = myCNN().to('cuda')\n",
    "\n",
    "wandb_logger = WandbLogger(project=\"cnn-pytorch-lightning\", log_model=True)\n",
    "\n",
    "trainer = pl.Trainer(\n",
    "        max_epochs=1,\n",
    "        accelerator=\"gpu\",  # Uses GPU if available\n",
    "        logger=wandb_logger,\n",
    "        log_every_n_steps=500,\n",
    "        precision=16\n",
    "    )"
   ]
  },
  {
   "cell_type": "code",
   "execution_count": 5,
   "id": "6d7f8f2d",
   "metadata": {},
   "outputs": [
    {
     "name": "stderr",
     "output_type": "stream",
     "text": [
      "wandb: Using wandb-core as the SDK backend.  Please refer to https://wandb.me/wandb-core for more information.\n",
      "wandb: Currently logged in as: bullseye2608 (bullseye2608-indian-institute-of-technology-madras) to https://api.wandb.ai. Use `wandb login --relogin` to force relogin\n"
     ]
    },
    {
     "data": {
      "text/html": [
       "Tracking run with wandb version 0.19.7"
      ],
      "text/plain": [
       "<IPython.core.display.HTML object>"
      ]
     },
     "metadata": {},
     "output_type": "display_data"
    },
    {
     "data": {
      "text/html": [
       "Run data is saved locally in <code>.\\wandb\\run-20250417_210251-bhwun64m</code>"
      ],
      "text/plain": [
       "<IPython.core.display.HTML object>"
      ]
     },
     "metadata": {},
     "output_type": "display_data"
    },
    {
     "data": {
      "text/html": [
       "Syncing run <strong><a href='https://wandb.ai/bullseye2608-indian-institute-of-technology-madras/cnn-pytorch-lightning/runs/bhwun64m' target=\"_blank\">sparkling-hill-4</a></strong> to <a href='https://wandb.ai/bullseye2608-indian-institute-of-technology-madras/cnn-pytorch-lightning' target=\"_blank\">Weights & Biases</a> (<a href='https://wandb.me/developer-guide' target=\"_blank\">docs</a>)<br>"
      ],
      "text/plain": [
       "<IPython.core.display.HTML object>"
      ]
     },
     "metadata": {},
     "output_type": "display_data"
    },
    {
     "data": {
      "text/html": [
       " View project at <a href='https://wandb.ai/bullseye2608-indian-institute-of-technology-madras/cnn-pytorch-lightning' target=\"_blank\">https://wandb.ai/bullseye2608-indian-institute-of-technology-madras/cnn-pytorch-lightning</a>"
      ],
      "text/plain": [
       "<IPython.core.display.HTML object>"
      ]
     },
     "metadata": {},
     "output_type": "display_data"
    },
    {
     "data": {
      "text/html": [
       " View run at <a href='https://wandb.ai/bullseye2608-indian-institute-of-technology-madras/cnn-pytorch-lightning/runs/bhwun64m' target=\"_blank\">https://wandb.ai/bullseye2608-indian-institute-of-technology-madras/cnn-pytorch-lightning/runs/bhwun64m</a>"
      ],
      "text/plain": [
       "<IPython.core.display.HTML object>"
      ]
     },
     "metadata": {},
     "output_type": "display_data"
    },
    {
     "name": "stderr",
     "output_type": "stream",
     "text": [
      "LOCAL_RANK: 0 - CUDA_VISIBLE_DEVICES: [0]\n",
      "\n",
      "  | Name  | Type       | Params | Mode \n",
      "---------------------------------------------\n",
      "0 | convs | ModuleList | 832    | train\n",
      "1 | pools | ModuleList | 0      | train\n",
      "2 | fc    | Linear     | 54.1 K | train\n",
      "---------------------------------------------\n",
      "54.9 K    Trainable params\n",
      "0         Non-trainable params\n",
      "54.9 K    Total params\n",
      "0.220     Total estimated model params size (MB)\n",
      "5         Modules in train mode\n",
      "0         Modules in eval mode\n"
     ]
    },
    {
     "data": {
      "application/vnd.jupyter.widget-view+json": {
       "model_id": "e347f16b386d42109447f29b7ddd3c34",
       "version_major": 2,
       "version_minor": 0
      },
      "text/plain": [
       "Sanity Checking: |          | 0/? [00:00<?, ?it/s]"
      ]
     },
     "metadata": {},
     "output_type": "display_data"
    },
    {
     "name": "stderr",
     "output_type": "stream",
     "text": [
      "c:\\Users\\DELL\\.conda\\envs\\DL\\lib\\site-packages\\pytorch_lightning\\trainer\\connectors\\data_connector.py:420: Consider setting `persistent_workers=True` in 'val_dataloader' to speed up the dataloader worker initialization.\n",
      "c:\\Users\\DELL\\.conda\\envs\\DL\\lib\\site-packages\\pytorch_lightning\\trainer\\connectors\\data_connector.py:420: Consider setting `persistent_workers=True` in 'train_dataloader' to speed up the dataloader worker initialization.\n"
     ]
    },
    {
     "data": {
      "application/vnd.jupyter.widget-view+json": {
       "model_id": "aaf95b07434a465fa77724117a087128",
       "version_major": 2,
       "version_minor": 0
      },
      "text/plain": [
       "Training: |          | 0/? [00:00<?, ?it/s]"
      ]
     },
     "metadata": {},
     "output_type": "display_data"
    },
    {
     "data": {
      "application/vnd.jupyter.widget-view+json": {
       "model_id": "874f6e909398468282dc4479741b7612",
       "version_major": 2,
       "version_minor": 0
      },
      "text/plain": [
       "Validation: |          | 0/? [00:00<?, ?it/s]"
      ]
     },
     "metadata": {},
     "output_type": "display_data"
    },
    {
     "name": "stderr",
     "output_type": "stream",
     "text": [
      "`Trainer.fit` stopped: `max_epochs=1` reached.\n"
     ]
    }
   ],
   "source": [
    "trainer.fit(model, train_loader, val_loader)"
   ]
  },
  {
   "cell_type": "code",
   "execution_count": 6,
   "id": "792e89a0",
   "metadata": {},
   "outputs": [
    {
     "name": "stderr",
     "output_type": "stream",
     "text": [
      "c:\\Users\\DELL\\.conda\\envs\\DL\\lib\\site-packages\\pytorch_lightning\\trainer\\connectors\\checkpoint_connector.py:149: `.test(ckpt_path=None)` was called without a model. The best model of the previous `fit` call will be used. You can pass `.test(ckpt_path='best')` to use the best model or `.test(ckpt_path='last')` to use the last model. If you pass a value, this warning will be silenced.\n",
      "Restoring states from the checkpoint path at .\\cnn-pytorch-lightning\\bhwun64m\\checkpoints\\epoch=0-step=938.ckpt\n",
      "LOCAL_RANK: 0 - CUDA_VISIBLE_DEVICES: [0]\n",
      "Loaded model weights from the checkpoint at .\\cnn-pytorch-lightning\\bhwun64m\\checkpoints\\epoch=0-step=938.ckpt\n",
      "c:\\Users\\DELL\\.conda\\envs\\DL\\lib\\site-packages\\pytorch_lightning\\trainer\\connectors\\data_connector.py:420: Consider setting `persistent_workers=True` in 'test_dataloader' to speed up the dataloader worker initialization.\n"
     ]
    },
    {
     "data": {
      "application/vnd.jupyter.widget-view+json": {
       "model_id": "a1f9c3608c034619852d95eb6d640d79",
       "version_major": 2,
       "version_minor": 0
      },
      "text/plain": [
       "Testing: |          | 0/? [00:00<?, ?it/s]"
      ]
     },
     "metadata": {},
     "output_type": "display_data"
    },
    {
     "data": {
      "text/html": [
       "<pre style=\"white-space:pre;overflow-x:auto;line-height:normal;font-family:Menlo,'DejaVu Sans Mono',consolas,'Courier New',monospace\">┏━━━━━━━━━━━━━━━━━━━━━━━━━━━┳━━━━━━━━━━━━━━━━━━━━━━━━━━━┓\n",
       "┃<span style=\"font-weight: bold\">        Test metric        </span>┃<span style=\"font-weight: bold\">       DataLoader 0        </span>┃\n",
       "┡━━━━━━━━━━━━━━━━━━━━━━━━━━━╇━━━━━━━━━━━━━━━━━━━━━━━━━━━┩\n",
       "│<span style=\"color: #008080; text-decoration-color: #008080\">         test_acc          </span>│<span style=\"color: #800080; text-decoration-color: #800080\">    0.9801999926567078     </span>│\n",
       "│<span style=\"color: #008080; text-decoration-color: #008080\">         test_loss         </span>│<span style=\"color: #800080; text-decoration-color: #800080\">    0.06546204537153244    </span>│\n",
       "└───────────────────────────┴───────────────────────────┘\n",
       "</pre>\n"
      ],
      "text/plain": [
       "┏━━━━━━━━━━━━━━━━━━━━━━━━━━━┳━━━━━━━━━━━━━━━━━━━━━━━━━━━┓\n",
       "┃\u001b[1m \u001b[0m\u001b[1m       Test metric       \u001b[0m\u001b[1m \u001b[0m┃\u001b[1m \u001b[0m\u001b[1m      DataLoader 0       \u001b[0m\u001b[1m \u001b[0m┃\n",
       "┡━━━━━━━━━━━━━━━━━━━━━━━━━━━╇━━━━━━━━━━━━━━━━━━━━━━━━━━━┩\n",
       "│\u001b[36m \u001b[0m\u001b[36m        test_acc         \u001b[0m\u001b[36m \u001b[0m│\u001b[35m \u001b[0m\u001b[35m   0.9801999926567078    \u001b[0m\u001b[35m \u001b[0m│\n",
       "│\u001b[36m \u001b[0m\u001b[36m        test_loss        \u001b[0m\u001b[36m \u001b[0m│\u001b[35m \u001b[0m\u001b[35m   0.06546204537153244   \u001b[0m\u001b[35m \u001b[0m│\n",
       "└───────────────────────────┴───────────────────────────┘\n"
      ]
     },
     "metadata": {},
     "output_type": "display_data"
    },
    {
     "data": {
      "text/html": [],
      "text/plain": [
       "<IPython.core.display.HTML object>"
      ]
     },
     "metadata": {},
     "output_type": "display_data"
    },
    {
     "data": {
      "text/html": [
       "<br>    <style><br>        .wandb-row {<br>            display: flex;<br>            flex-direction: row;<br>            flex-wrap: wrap;<br>            justify-content: flex-start;<br>            width: 100%;<br>        }<br>        .wandb-col {<br>            display: flex;<br>            flex-direction: column;<br>            flex-basis: 100%;<br>            flex: 1;<br>            padding: 10px;<br>        }<br>    </style><br><div class=\"wandb-row\"><div class=\"wandb-col\"><h3>Run history:</h3><br/><table class=\"wandb\"><tr><td>epoch</td><td>▁▁█</td></tr><tr><td>test_acc</td><td>▁</td></tr><tr><td>test_loss</td><td>▁</td></tr><tr><td>train_acc</td><td>▁</td></tr><tr><td>train_loss</td><td>▁</td></tr><tr><td>trainer/global_step</td><td>▁██</td></tr><tr><td>val_acc</td><td>▁</td></tr><tr><td>val_loss</td><td>▁</td></tr></table><br/></div><div class=\"wandb-col\"><h3>Run summary:</h3><br/><table class=\"wandb\"><tr><td>epoch</td><td>1</td></tr><tr><td>test_acc</td><td>0.9802</td></tr><tr><td>test_loss</td><td>0.06546</td></tr><tr><td>train_acc</td><td>0.98438</td></tr><tr><td>train_loss</td><td>0.05502</td></tr><tr><td>trainer/global_step</td><td>938</td></tr><tr><td>val_acc</td><td>0.9802</td></tr><tr><td>val_loss</td><td>0.06546</td></tr></table><br/></div></div>"
      ],
      "text/plain": [
       "<IPython.core.display.HTML object>"
      ]
     },
     "metadata": {},
     "output_type": "display_data"
    },
    {
     "data": {
      "text/html": [
       " View run <strong style=\"color:#cdcd00\">sparkling-hill-4</strong> at: <a href='https://wandb.ai/bullseye2608-indian-institute-of-technology-madras/cnn-pytorch-lightning/runs/bhwun64m' target=\"_blank\">https://wandb.ai/bullseye2608-indian-institute-of-technology-madras/cnn-pytorch-lightning/runs/bhwun64m</a><br> View project at: <a href='https://wandb.ai/bullseye2608-indian-institute-of-technology-madras/cnn-pytorch-lightning' target=\"_blank\">https://wandb.ai/bullseye2608-indian-institute-of-technology-madras/cnn-pytorch-lightning</a><br>Synced 5 W&B file(s), 0 media file(s), 2 artifact file(s) and 0 other file(s)"
      ],
      "text/plain": [
       "<IPython.core.display.HTML object>"
      ]
     },
     "metadata": {},
     "output_type": "display_data"
    },
    {
     "data": {
      "text/html": [
       "Find logs at: <code>.\\wandb\\run-20250417_210251-bhwun64m\\logs</code>"
      ],
      "text/plain": [
       "<IPython.core.display.HTML object>"
      ]
     },
     "metadata": {},
     "output_type": "display_data"
    }
   ],
   "source": [
    "trainer.test(dataloaders=val_loader)\n",
    "wandb.finish()"
   ]
  },
  {
   "cell_type": "markdown",
   "id": "18ec5938",
   "metadata": {},
   "source": [
    "## Main\n"
   ]
  },
  {
   "cell_type": "code",
   "execution_count": null,
   "id": "2d076f09",
   "metadata": {},
   "outputs": [],
   "source": [
    "import torch\n",
    "import torch.nn as nn\n",
    "import torch.nn.functional as F\n",
    "from torch.utils.data import DataLoader, Dataset, random_split\n",
    "import torchvision.transforms as transforms\n",
    "from torchvision.datasets import ImageFolder\n",
    "import pytorch_lightning as pl\n",
    "from pytorch_lightning.callbacks import ModelCheckpoint\n",
    "from pytorch_lightning.loggers import TensorBoardLogger, WandbLogger\n",
    "import os\n",
    "import argparse\n",
    "from typing import List, Tuple, Callable, Union, Type\n",
    "from IPython.display import clear_output\n",
    "\n",
    "class FlexibleCNN(pl.LightningModule):\n",
    "    def __init__(\n",
    "        self,\n",
    "        input_channels: int = 3,\n",
    "        num_classes: int = 10,\n",
    "        conv_filters: List[int] = [32, 64, 128, 256, 512],\n",
    "        kernel_sizes: Union[int, List[int]] = 3,\n",
    "        conv_activation: Union[str, Type[nn.Module]] = \"relu\",\n",
    "        dense_neurons: int = 512,\n",
    "        dense_activation: Union[str, Type[nn.Module]] = \"relu\",\n",
    "        pooling_size: Union[int, List[int]] = 2,\n",
    "        learning_rate: float = 0.001,\n",
    "        use_batch_norm: bool = False,\n",
    "        dropout_rate: float = 0.0\n",
    "    ):\n",
    "        \"\"\"\n",
    "        Flexible CNN model with 5 conv-activation-maxpool blocks\n",
    "        \n",
    "        Args:\n",
    "            input_channels: Number of input image channels (3 for RGB)\n",
    "            num_classes: Number of output classes\n",
    "            conv_filters: List of filter counts for each conv layer\n",
    "            kernel_sizes: Kernel size for conv layers (int or list)\n",
    "            conv_activation: Activation function for conv layers\n",
    "            dense_neurons: Number of neurons in the dense layer\n",
    "            dense_activation: Activation function for dense layer\n",
    "            pooling_size: Max pooling size (int or list)\n",
    "            learning_rate: Learning rate for optimizer\n",
    "            use_batch_norm: Whether to use batch normalization\n",
    "            dropout_rate: Dropout rate (if use_dropout is True)\n",
    "            use_dropout: Whether to use dropout\n",
    "        \"\"\"\n",
    "        super().__init__()\n",
    "        self.save_hyperparameters()\n",
    "        \n",
    "        # Convert activation strings to functions\n",
    "        self.conv_activation = self._get_activation(conv_activation)\n",
    "        self.dense_activation = self._get_activation(dense_activation)\n",
    "        \n",
    "        # Convert single value to lists if needed\n",
    "        if isinstance(kernel_sizes, int):\n",
    "            kernel_sizes = [kernel_sizes] * 5\n",
    "        if isinstance(pooling_size, int):\n",
    "            pooling_size = [pooling_size] * 5\n",
    "            \n",
    "        self.use_dropout = False if dropout_rate == 0.0 else True\n",
    "\n",
    "        # Create 5 convolution blocks\n",
    "        self.conv_blocks = nn.ModuleList()\n",
    "        in_channels = input_channels\n",
    "        \n",
    "        for i in range(5):\n",
    "            layers = []\n",
    "            \n",
    "            # Convolution layer\n",
    "            layers.append(nn.Conv2d(in_channels, conv_filters[i], kernel_size=kernel_sizes[i], padding=kernel_sizes[i]//2))\n",
    "            \n",
    "            # Optional batch normalization (before activation)\n",
    "            if use_batch_norm:\n",
    "                layers.append(nn.BatchNorm2d(conv_filters[i]))\n",
    "            \n",
    "            # Activation\n",
    "            layers.append(self._get_activation_layer(self.conv_activation))\n",
    "            \n",
    "            # Optional dropout after activation but before pooling\n",
    "            if self.use_dropout:\n",
    "                layers.append(nn.Dropout2d(dropout_rate))\n",
    "            \n",
    "            # Max pooling\n",
    "            layers.append(nn.MaxPool2d(kernel_size=pooling_size[i], stride=pooling_size[i]))\n",
    "            \n",
    "            self.conv_blocks.append(nn.Sequential(*layers))\n",
    "            in_channels = conv_filters[i]\n",
    "        \n",
    "        # Calculate the size of the flattened features\n",
    "        # Assuming input image size is 224x224 (common for iNaturalist)\n",
    "        # Each pooling with size 2 reduces dimensions by half\n",
    "        final_size = 224 // (2 ** 5)  # After 5 pooling layers\n",
    "        self.flat_size = final_size * final_size * conv_filters[-1]\n",
    "        \n",
    "        # Dense layer\n",
    "        self.fc1 = nn.Linear(self.flat_size, dense_neurons)\n",
    "        \n",
    "        # Optional batch normalization for dense layer\n",
    "        self.use_batch_norm = use_batch_norm\n",
    "        if use_batch_norm:\n",
    "            self.bn_fc = nn.BatchNorm1d(dense_neurons)\n",
    "            \n",
    "        # Dense layer dropout (applied after activation)\n",
    "        self.dropout_rate = dropout_rate\n",
    "        if self.use_dropout:\n",
    "            self.dropout = nn.Dropout(dropout_rate)\n",
    "        \n",
    "        # Output layer\n",
    "        self.fc2 = nn.Linear(dense_neurons, num_classes)\n",
    "        \n",
    "        self.learning_rate = learning_rate\n",
    "    \n",
    "    def _get_activation(self, activation):\n",
    "        \"\"\"Convert activation name to function or return the provided activation\"\"\"\n",
    "        if isinstance(activation, str):\n",
    "            activation = activation.lower()\n",
    "            if activation == 'relu':\n",
    "                return F.relu\n",
    "            elif activation == 'leaky_relu':\n",
    "                return F.leaky_relu\n",
    "            elif activation == 'elu':\n",
    "                return F.elu\n",
    "            elif activation == 'tanh':\n",
    "                return F.tanh\n",
    "            elif activation == 'sigmoid':\n",
    "                return F.sigmoid\n",
    "            else:\n",
    "                raise ValueError(f\"Unsupported activation: {activation}\")\n",
    "        return activation\n",
    "    \n",
    "    def _get_activation_layer(self, activation_fn):\n",
    "        \"\"\"Convert activation function to layer\"\"\"\n",
    "        if activation_fn == F.relu:\n",
    "            return nn.ReLU()\n",
    "        elif activation_fn == F.leaky_relu:\n",
    "            return nn.LeakyReLU()\n",
    "        elif activation_fn == F.elu:\n",
    "            return nn.ELU()\n",
    "        elif activation_fn == F.tanh:\n",
    "            return nn.Tanh()\n",
    "        elif activation_fn == F.sigmoid:\n",
    "            return nn.Sigmoid()\n",
    "        else:\n",
    "            # For custom activations, use a Lambda layer\n",
    "            return nn.Identity()  # Placeholder, will use functional activation in forward\n",
    "    \n",
    "    def forward(self, x):\n",
    "        # Apply all conv blocks\n",
    "        for block in self.conv_blocks:\n",
    "            x = block(x)\n",
    "        \n",
    "        # Flatten\n",
    "        x = x.view(x.size(0), -1)\n",
    "        \n",
    "        # Apply dense layer\n",
    "        x = self.fc1(x)\n",
    "        \n",
    "        # Apply batch norm if enabled\n",
    "        if self.use_batch_norm:\n",
    "            x = self.bn_fc(x)\n",
    "        \n",
    "        # Apply activation\n",
    "        x = self.dense_activation(x)\n",
    "        \n",
    "        # Apply dropout if enabled\n",
    "        if self.use_dropout:\n",
    "            x = self.dropout(x)\n",
    "        \n",
    "        # Output layer\n",
    "        x = self.fc2(x)\n",
    "        \n",
    "        return x\n",
    "    \n",
    "    def training_step(self, batch, batch_idx):\n",
    "        x, y = batch\n",
    "        logits = self(x)\n",
    "        loss = F.cross_entropy(logits, y)\n",
    "        preds = torch.argmax(logits, dim=1)\n",
    "        acc = (preds == y).float().mean()\n",
    "        \n",
    "        # Log metrics\n",
    "        self.log('train_loss', loss, on_step=True, on_epoch=True, prog_bar=True)\n",
    "        self.log('train_acc', acc, on_step=True, on_epoch=True, prog_bar=True)\n",
    "        \n",
    "        return loss\n",
    "    \n",
    "    def validation_step(self, batch, batch_idx):\n",
    "        x, y = batch\n",
    "        logits = self(x)\n",
    "        loss = F.cross_entropy(logits, y)\n",
    "        preds = torch.argmax(logits, dim=1)\n",
    "        acc = (preds == y).float().mean()\n",
    "        \n",
    "        # Log metrics\n",
    "        self.log('val_loss', loss, prog_bar=True)\n",
    "        self.log('val_acc', acc, prog_bar=True)\n",
    "        \n",
    "        return loss\n",
    "    \n",
    "    def test_step(self, batch, batch_idx):\n",
    "        x, y = batch\n",
    "        logits = self(x)\n",
    "        loss = F.cross_entropy(logits, y)\n",
    "        preds = torch.argmax(logits, dim=1)\n",
    "        acc = (preds == y).float().mean()\n",
    "        \n",
    "        # Log metrics\n",
    "        self.log('test_loss', loss)\n",
    "        self.log('test_acc', acc)\n",
    "        \n",
    "        return loss\n",
    "    \n",
    "    def configure_optimizers(self):\n",
    "        return torch.optim.Adam(self.parameters(), lr=self.learning_rate)\n",
    "\n",
    "\n",
    "class iNaturalistDataModule(pl.LightningDataModule):\n",
    "    def __init__(\n",
    "        self, \n",
    "        data_dir: str,\n",
    "        batch_size: int = 32,\n",
    "        num_workers: int = 4,\n",
    "        image_size: int = 224,\n",
    "        use_data_augmentation: bool = False,\n",
    "        seed=42,\n",
    "    ):\n",
    "        super().__init__()\n",
    "        self.train_data_dir = os.path.join(data_dir, 'train')\n",
    "        self.test_data_dir = os.path.join(data_dir, 'val')\n",
    "        self.batch_size = batch_size\n",
    "        self.num_workers = num_workers\n",
    "        self.image_size = image_size\n",
    "        self.use_data_augmentation = use_data_augmentation\n",
    "        self.seed = seed\n",
    "        \n",
    "    def setup(self, stage=None):\n",
    "        # Basic transformations always applied\n",
    "        basic_transforms = [\n",
    "            transforms.Resize((self.image_size, self.image_size)),\n",
    "            transforms.ToTensor(),\n",
    "            transforms.Normalize(mean=[0.485, 0.456, 0.406], std=[0.229, 0.224, 0.225])\n",
    "        ]\n",
    "        \n",
    "        # Additional augmentations when enabled\n",
    "        augmentation_transforms = []\n",
    "        if self.use_data_augmentation:\n",
    "            augmentation_transforms = [\n",
    "                transforms.RandomHorizontalFlip(),\n",
    "                transforms.RandomRotation(15),\n",
    "                # transforms.ColorJitter(brightness=0.1, contrast=0.1, saturation=0.1, hue=0.05),\n",
    "                # transforms.RandomAffine(degrees=0, translate=(0.1, 0.1)),\n",
    "                transforms.RandomResizedCrop(self.image_size, scale=(0.8, 1.0))\n",
    "            ]\n",
    "        \n",
    "        # Combine transformations\n",
    "        train_transforms = transforms.Compose(augmentation_transforms + basic_transforms)\n",
    "        val_transforms = transforms.Compose(basic_transforms)\n",
    "        \n",
    "        # Load dataset\n",
    "        full_dataset = ImageFolder(root=self.train_data_dir)\n",
    "        \n",
    "        # Split dataset\n",
    "        dataset_size = len(full_dataset)\n",
    "        train_size = int(0.8 * dataset_size)\n",
    "        val_size = dataset_size - train_size\n",
    "        \n",
    "        # Use random split with generator for reproducibility\n",
    "        generator = torch.Generator().manual_seed(self.seed)\n",
    "        self.train_dataset, self.val_dataset = random_split(\n",
    "            full_dataset, [train_size, val_size], generator=generator\n",
    "        )\n",
    "        \n",
    "        self.train_dataset.dataset = ImageFolder(root=self.train_data_dir, transform=train_transforms) \n",
    "        self.val_dataset.dataset = ImageFolder(root=self.train_data_dir, transform=val_transforms) \n",
    "        \n",
    "        # # Apply transformations\n",
    "        # self.train_dataset = TransformedSubset(self.train_dataset, train_transforms)\n",
    "        # self.val_dataset = TransformedSubset(self.val_dataset, val_transforms)\n",
    "        \n",
    "        self.test_dataset = ImageFolder(root=self.test_data_dir, transform=val_transforms)\n",
    "        \n",
    "    def train_dataloader(self):\n",
    "        return DataLoader(\n",
    "            self.train_dataset,\n",
    "            batch_size=self.batch_size,\n",
    "            shuffle=True,\n",
    "            num_workers=self.num_workers,\n",
    "            pin_memory=True,\n",
    "            persistent_workers=True\n",
    "        )\n",
    "    \n",
    "    def val_dataloader(self):\n",
    "        return DataLoader(\n",
    "            self.val_dataset,\n",
    "            batch_size=self.batch_size,\n",
    "            shuffle=False,\n",
    "            num_workers=self.num_workers,\n",
    "            pin_memory=True,\n",
    "            persistent_workers=True\n",
    "        )\n",
    "    \n",
    "    def test_dataloader(self):\n",
    "        print('uhuh')\n",
    "        return DataLoader(\n",
    "            self.test_dataset,\n",
    "            batch_size=self.batch_size,\n",
    "            shuffle=False,\n",
    "            num_workers=self.num_workers,\n",
    "            pin_memory=True,\n",
    "            persistent_workers=True\n",
    "        )\n"
   ]
  },
  {
   "cell_type": "code",
   "execution_count": 2,
   "id": "2de151b1",
   "metadata": {},
   "outputs": [
    {
     "name": "stderr",
     "output_type": "stream",
     "text": [
      "c:\\Users\\DELL\\.conda\\envs\\DL\\lib\\site-packages\\lightning_fabric\\connector.py:571: `precision=16` is supported for historical reasons but its usage is discouraged. Please set your precision to 16-mixed instead!\n",
      "Using 16bit Automatic Mixed Precision (AMP)\n",
      "You are using the plain ModelCheckpoint callback. Consider using LitModelCheckpoint which with seamless uploading to Model registry.\n",
      "GPU available: True (cuda), used: True\n",
      "TPU available: False, using: 0 TPU cores\n",
      "HPU available: False, using: 0 HPUs\n"
     ]
    }
   ],
   "source": [
    "data_directory = r'C:\\Users\\DELL\\Desktop\\Coding\\Python\\DL\\Assignment 2\\da6401_assignment2\\data\\inaturalist_12K'\n",
    "data_module = iNaturalistDataModule(\n",
    "        data_dir=data_directory,\n",
    "        batch_size=64,\n",
    "        use_data_augmentation=True\n",
    "    )\n",
    "data_module.setup()\n",
    "\n",
    "model = FlexibleCNN(\n",
    "    input_channels=3,\n",
    "    num_classes=10,\n",
    "    conv_filters=[32,64,128,256,512],\n",
    "    kernel_sizes=3,\n",
    "    conv_activation='relu',\n",
    "    dense_neurons=512,\n",
    "    dense_activation='relu',\n",
    "    learning_rate=0.0002,\n",
    "    use_batch_norm=True,\n",
    "    dropout_rate=0.2\n",
    ").to('cuda')\n",
    "\n",
    "wandb_logger = WandbLogger(project=\"cnn-pytorch-lightning\", log_model=True)\n",
    "\n",
    "trainer = pl.Trainer(\n",
    "    max_epochs=20,\n",
    "    accelerator='gpu',\n",
    "    logger=wandb_logger,\n",
    "    precision=16\n",
    ")\n"
   ]
  },
  {
   "cell_type": "code",
   "execution_count": null,
   "id": "2cdcbe1f",
   "metadata": {},
   "outputs": [
    {
     "name": "stderr",
     "output_type": "stream",
     "text": [
      "You are using a CUDA device ('NVIDIA GeForce RTX 3060 Laptop GPU') that has Tensor Cores. To properly utilize them, you should set `torch.set_float32_matmul_precision('medium' | 'high')` which will trade-off precision for performance. For more details, read https://pytorch.org/docs/stable/generated/torch.set_float32_matmul_precision.html#torch.set_float32_matmul_precision\n",
      "wandb: Using wandb-core as the SDK backend.  Please refer to https://wandb.me/wandb-core for more information.\n",
      "wandb: Currently logged in as: bullseye2608 (bullseye2608-indian-institute-of-technology-madras) to https://api.wandb.ai. Use `wandb login --relogin` to force relogin\n"
     ]
    },
    {
     "data": {
      "text/html": [
       "Tracking run with wandb version 0.19.7"
      ],
      "text/plain": [
       "<IPython.core.display.HTML object>"
      ]
     },
     "metadata": {},
     "output_type": "display_data"
    },
    {
     "data": {
      "text/html": [
       "Run data is saved locally in <code>.\\wandb\\run-20250418_142326-00f8c3s5</code>"
      ],
      "text/plain": [
       "<IPython.core.display.HTML object>"
      ]
     },
     "metadata": {},
     "output_type": "display_data"
    },
    {
     "data": {
      "text/html": [
       "Syncing run <strong><a href='https://wandb.ai/bullseye2608-indian-institute-of-technology-madras/cnn-pytorch-lightning/runs/00f8c3s5' target=\"_blank\">legendary-butterfly-16</a></strong> to <a href='https://wandb.ai/bullseye2608-indian-institute-of-technology-madras/cnn-pytorch-lightning' target=\"_blank\">Weights & Biases</a> (<a href='https://wandb.me/developer-guide' target=\"_blank\">docs</a>)<br>"
      ],
      "text/plain": [
       "<IPython.core.display.HTML object>"
      ]
     },
     "metadata": {},
     "output_type": "display_data"
    },
    {
     "data": {
      "text/html": [
       " View project at <a href='https://wandb.ai/bullseye2608-indian-institute-of-technology-madras/cnn-pytorch-lightning' target=\"_blank\">https://wandb.ai/bullseye2608-indian-institute-of-technology-madras/cnn-pytorch-lightning</a>"
      ],
      "text/plain": [
       "<IPython.core.display.HTML object>"
      ]
     },
     "metadata": {},
     "output_type": "display_data"
    },
    {
     "data": {
      "text/html": [
       " View run at <a href='https://wandb.ai/bullseye2608-indian-institute-of-technology-madras/cnn-pytorch-lightning/runs/00f8c3s5' target=\"_blank\">https://wandb.ai/bullseye2608-indian-institute-of-technology-madras/cnn-pytorch-lightning/runs/00f8c3s5</a>"
      ],
      "text/plain": [
       "<IPython.core.display.HTML object>"
      ]
     },
     "metadata": {},
     "output_type": "display_data"
    },
    {
     "name": "stderr",
     "output_type": "stream",
     "text": [
      "LOCAL_RANK: 0 - CUDA_VISIBLE_DEVICES: [0]\n",
      "\n",
      "  | Name        | Type        | Params | Mode \n",
      "----------------------------------------------------\n",
      "0 | conv_blocks | ModuleList  | 1.6 M  | train\n",
      "1 | fc1         | Linear      | 12.8 M | train\n",
      "2 | bn_fc       | BatchNorm1d | 1.0 K  | train\n",
      "3 | dropout     | Dropout     | 0      | train\n",
      "4 | fc2         | Linear      | 5.1 K  | train\n",
      "----------------------------------------------------\n",
      "14.4 M    Trainable params\n",
      "0         Non-trainable params\n",
      "14.4 M    Total params\n",
      "57.689    Total estimated model params size (MB)\n",
      "35        Modules in train mode\n",
      "0         Modules in eval mode\n"
     ]
    },
    {
     "data": {
      "application/vnd.jupyter.widget-view+json": {
       "model_id": "f7741c0cd0be4012a2b4fa1f10ae331c",
       "version_major": 2,
       "version_minor": 0
      },
      "text/plain": [
       "Sanity Checking: |          | 0/? [00:00<?, ?it/s]"
      ]
     },
     "metadata": {},
     "output_type": "display_data"
    },
    {
     "data": {
      "application/vnd.jupyter.widget-view+json": {
       "model_id": "1a44223b000d4374b69689ea18db859b",
       "version_major": 2,
       "version_minor": 0
      },
      "text/plain": [
       "Training: |          | 0/? [00:00<?, ?it/s]"
      ]
     },
     "metadata": {},
     "output_type": "display_data"
    }
   ],
   "source": [
    "trainer.fit(model, data_module)"
   ]
  },
  {
   "cell_type": "code",
   "execution_count": null,
   "id": "3ffa48ad",
   "metadata": {},
   "outputs": [],
   "source": [
    "trainer.test(model, data_module)\n",
    "wandb.finish()"
   ]
  },
  {
   "cell_type": "markdown",
   "id": "e898fd04",
   "metadata": {},
   "source": [
    "## Sweep"
   ]
  },
  {
   "cell_type": "code",
   "execution_count": 2,
   "id": "2df8c330",
   "metadata": {},
   "outputs": [],
   "source": [
    "import os\n",
    "import wandb\n",
    "import subprocess\n",
    "from pathlib import Path\n",
    "\n",
    "# Define the sweep configuration\n",
    "sweep_config = {\n",
    "    'method': 'bayes',  # Bayesian optimization\n",
    "    'metric': {\n",
    "        'name': 'val_acc',\n",
    "        'goal': 'maximize'\n",
    "    },\n",
    "    'parameters': {\n",
    "        'learning_rate': {\n",
    "            'distribution': 'log_uniform_values',\n",
    "            'min': 1e-4,\n",
    "            'max': 1e-2\n",
    "        },\n",
    "        'batch_size': {\n",
    "            'values': [32, 64, 128]\n",
    "        },\n",
    "        'conv_filters_pattern': {\n",
    "            'values': [\n",
    "                '32,64,128,256,512',     # Standard doubling\n",
    "                '64,64,64,64,64',         # Same filters\n",
    "                '128,96,64,48,32',        # Decreasing filters\n",
    "                '32,64,128,64,32'         # Diamond pattern\n",
    "            ]\n",
    "        },\n",
    "        'activation': {\n",
    "            'values': ['relu', 'leaky_relu', 'elu']\n",
    "        },\n",
    "        'dense_neurons': {\n",
    "            'values': [128, 256, 512]\n",
    "        },\n",
    "        'use_batch_norm': {\n",
    "            'values': [True, False]\n",
    "        },\n",
    "        'dropout_rate': {\n",
    "            'values': [0.0, 0.2, 0.3, 0.5]\n",
    "        },\n",
    "        'use_data_augmentation': {\n",
    "            'values': [True, False]\n",
    "        }\n",
    "    }\n",
    "}"
   ]
  },
  {
   "cell_type": "code",
   "execution_count": 5,
   "id": "4af8becd",
   "metadata": {},
   "outputs": [
    {
     "name": "stderr",
     "output_type": "stream",
     "text": [
      "wandb: Using wandb-core as the SDK backend.  Please refer to https://wandb.me/wandb-core for more information.\n"
     ]
    },
    {
     "name": "stdout",
     "output_type": "stream",
     "text": [
      "Create sweep with ID: 5ulq9d3c\n",
      "Sweep URL: https://wandb.ai/bullseye2608-indian-institute-of-technology-madras/inaturalist-cnn/sweeps/5ulq9d3c\n"
     ]
    }
   ],
   "source": [
    "sweep_id = wandb.sweep(sweep_config, project=\"inaturalist-cnn\")"
   ]
  },
  {
   "cell_type": "code",
   "execution_count": 3,
   "id": "e0c8d69b",
   "metadata": {},
   "outputs": [],
   "source": [
    "def train():\n",
    "    # Initialize a new wandb run\n",
    "    run = wandb.init()\n",
    "    \n",
    "    # Get hyperparameters for this run\n",
    "    config = wandb.config\n",
    "    \n",
    "    # Parse conv_filters to list\n",
    "    conv_filters = [int(f) for f in config.conv_filters_pattern.split(',')]\n",
    "    \n",
    "    # The data path\n",
    "    data_dir = r'C:\\Users\\DELL\\Desktop\\Coding\\Python\\DL\\Assignment 2\\da6401_assignment2\\data\\inaturalist_12K'\n",
    "    \n",
    "    # Initialize data module (only once per sweep)\n",
    "    data_module = iNaturalistDataModule(\n",
    "        data_dir=data_dir,\n",
    "        batch_size=config.batch_size,\n",
    "        use_data_augmentation=config.use_data_augmentation\n",
    "    )\n",
    "    data_module.setup()\n",
    "    \n",
    "    # Initialize model with sweep parameters\n",
    "    model = FlexibleCNN(\n",
    "        input_channels=3,\n",
    "        num_classes=10,\n",
    "        conv_filters=conv_filters,\n",
    "        kernel_sizes=3,  # Fixed for simplicity\n",
    "        conv_activation=config.activation,\n",
    "        dense_neurons=config.dense_neurons,\n",
    "        dense_activation=config.activation,\n",
    "        learning_rate=config.learning_rate,\n",
    "        use_batch_norm=config.use_batch_norm,\n",
    "        dropout_rate=config.dropout_rate,\n",
    "    )\n",
    "    \n",
    "    # Setup callbacks\n",
    "    checkpoint_callback = ModelCheckpoint(\n",
    "        monitor='val_loss',\n",
    "        filename='{epoch}-{val_loss:.2f}',\n",
    "        save_top_k=1,\n",
    "        mode='min'\n",
    "    )\n",
    "    \n",
    "    # Setup wandb logger (already initialized by wandb.init())\n",
    "    logger = WandbLogger()\n",
    "    \n",
    "    # Initialize trainer\n",
    "    trainer = pl.Trainer(\n",
    "        max_epochs=10,  # Fixed for all sweeps\n",
    "        accelerator='auto',\n",
    "        callbacks=[checkpoint_callback],\n",
    "        logger=logger\n",
    "    )\n",
    "    \n",
    "    # Train the model\n",
    "    trainer.fit(model, data_module)\n",
    "    \n",
    "    # Optionally test the model to get final metrics\n",
    "    test_results = trainer.test(model, datamodule=data_module)\n",
    "    \n",
    "    # Log additional metrics if needed\n",
    "    for k, v in test_results[0].items():\n",
    "        wandb.log({k: v})\n",
    "    \n",
    "    # No need to call wandb.finish() as sweep agent manages the run lifecycle\n"
   ]
  },
  {
   "cell_type": "code",
   "execution_count": null,
   "id": "835024d2",
   "metadata": {},
   "outputs": [
    {
     "name": "stderr",
     "output_type": "stream",
     "text": [
      "wandb: Using wandb-core as the SDK backend.  Please refer to https://wandb.me/wandb-core for more information.\n",
      "wandb: Agent Starting Run: f0o4maek with config:\n",
      "wandb: \tactivation: relu\n",
      "wandb: \tbatch_size: 32\n",
      "wandb: \tconv_filters_pattern: 64,64,64,64,64\n",
      "wandb: \tdense_neurons: 128\n",
      "wandb: \tdropout_rate: 0\n",
      "wandb: \tlearning_rate: 0.0023721222172821163\n",
      "wandb: \tuse_batch_norm: False\n",
      "wandb: \tuse_data_augmentation: True\n",
      "wandb: Currently logged in as: bullseye2608 (bullseye2608-indian-institute-of-technology-madras) to https://api.wandb.ai. Use `wandb login --relogin` to force relogin\n"
     ]
    },
    {
     "data": {
      "text/html": [
       "Tracking run with wandb version 0.19.7"
      ],
      "text/plain": [
       "<IPython.core.display.HTML object>"
      ]
     },
     "metadata": {},
     "output_type": "display_data"
    },
    {
     "data": {
      "text/html": [
       "Run data is saved locally in <code>c:\\Users\\DELL\\Desktop\\Coding\\Python\\DL\\Assignment 2\\da6401_assignment2\\partA\\wandb\\run-20250418_003658-f0o4maek</code>"
      ],
      "text/plain": [
       "<IPython.core.display.HTML object>"
      ]
     },
     "metadata": {},
     "output_type": "display_data"
    },
    {
     "data": {
      "text/html": [
       "Syncing run <strong><a href='https://wandb.ai/bullseye2608-indian-institute-of-technology-madras/inaturalist-cnn/runs/f0o4maek' target=\"_blank\">giddy-sweep-2</a></strong> to <a href='https://wandb.ai/bullseye2608-indian-institute-of-technology-madras/inaturalist-cnn' target=\"_blank\">Weights & Biases</a> (<a href='https://wandb.me/developer-guide' target=\"_blank\">docs</a>)<br>Sweep page: <a href='https://wandb.ai/bullseye2608-indian-institute-of-technology-madras/inaturalist-cnn/sweeps/kn08nm99' target=\"_blank\">https://wandb.ai/bullseye2608-indian-institute-of-technology-madras/inaturalist-cnn/sweeps/kn08nm99</a>"
      ],
      "text/plain": [
       "<IPython.core.display.HTML object>"
      ]
     },
     "metadata": {},
     "output_type": "display_data"
    },
    {
     "data": {
      "text/html": [
       " View project at <a href='https://wandb.ai/bullseye2608-indian-institute-of-technology-madras/inaturalist-cnn' target=\"_blank\">https://wandb.ai/bullseye2608-indian-institute-of-technology-madras/inaturalist-cnn</a>"
      ],
      "text/plain": [
       "<IPython.core.display.HTML object>"
      ]
     },
     "metadata": {},
     "output_type": "display_data"
    },
    {
     "data": {
      "text/html": [
       " View sweep at <a href='https://wandb.ai/bullseye2608-indian-institute-of-technology-madras/inaturalist-cnn/sweeps/kn08nm99' target=\"_blank\">https://wandb.ai/bullseye2608-indian-institute-of-technology-madras/inaturalist-cnn/sweeps/kn08nm99</a>"
      ],
      "text/plain": [
       "<IPython.core.display.HTML object>"
      ]
     },
     "metadata": {},
     "output_type": "display_data"
    },
    {
     "data": {
      "text/html": [
       " View run at <a href='https://wandb.ai/bullseye2608-indian-institute-of-technology-madras/inaturalist-cnn/runs/f0o4maek' target=\"_blank\">https://wandb.ai/bullseye2608-indian-institute-of-technology-madras/inaturalist-cnn/runs/f0o4maek</a>"
      ],
      "text/plain": [
       "<IPython.core.display.HTML object>"
      ]
     },
     "metadata": {},
     "output_type": "display_data"
    },
    {
     "name": "stderr",
     "output_type": "stream",
     "text": [
      "GPU available: True (cuda), used: True\n",
      "TPU available: False, using: 0 TPU cores\n",
      "HPU available: False, using: 0 HPUs\n",
      "You are using a CUDA device ('NVIDIA GeForce RTX 3060 Laptop GPU') that has Tensor Cores. To properly utilize them, you should set `torch.set_float32_matmul_precision('medium' | 'high')` which will trade-off precision for performance. For more details, read https://pytorch.org/docs/stable/generated/torch.set_float32_matmul_precision.html#torch.set_float32_matmul_precision\n",
      "c:\\Users\\DELL\\.conda\\envs\\DL\\lib\\site-packages\\pytorch_lightning\\loggers\\wandb.py:397: There is a wandb run already in progress and newly created instances of `WandbLogger` will reuse this run. If this is not desired, call `wandb.finish()` before instantiating `WandbLogger`.\n",
      "LOCAL_RANK: 0 - CUDA_VISIBLE_DEVICES: [0]\n",
      "\n",
      "  | Name        | Type       | Params | Mode \n",
      "---------------------------------------------------\n",
      "0 | conv_blocks | ModuleList | 149 K  | train\n",
      "1 | fc1         | Linear     | 401 K  | train\n",
      "2 | fc2         | Linear     | 1.3 K  | train\n",
      "---------------------------------------------------\n",
      "552 K     Trainable params\n",
      "0         Non-trainable params\n",
      "552 K     Total params\n",
      "2.209     Total estimated model params size (MB)\n",
      "23        Modules in train mode\n",
      "0         Modules in eval mode\n",
      "wandb: WARNING Config item 'dense_neurons' was locked by 'sweep' (ignored update).\n",
      "wandb: WARNING Config item 'learning_rate' was locked by 'sweep' (ignored update).\n",
      "wandb: WARNING Config item 'use_batch_norm' was locked by 'sweep' (ignored update).\n",
      "wandb: WARNING Config item 'dropout_rate' was locked by 'sweep' (ignored update).\n"
     ]
    },
    {
     "data": {
      "application/vnd.jupyter.widget-view+json": {
       "model_id": "8b0b7e5cd87346fe8b1ab94dfb2df843",
       "version_major": 2,
       "version_minor": 0
      },
      "text/plain": [
       "Sanity Checking: |          | 0/? [00:00<?, ?it/s]"
      ]
     },
     "metadata": {},
     "output_type": "display_data"
    },
    {
     "data": {
      "application/vnd.jupyter.widget-view+json": {
       "model_id": "6a079aa2a0c940539e2e90a40b4d7ed5",
       "version_major": 2,
       "version_minor": 0
      },
      "text/plain": [
       "Training: |          | 0/? [00:00<?, ?it/s]"
      ]
     },
     "metadata": {},
     "output_type": "display_data"
    },
    {
     "data": {
      "application/vnd.jupyter.widget-view+json": {
       "model_id": "658ef933e8414a4cbacc753066f104a6",
       "version_major": 2,
       "version_minor": 0
      },
      "text/plain": [
       "Validation: |          | 0/? [00:00<?, ?it/s]"
      ]
     },
     "metadata": {},
     "output_type": "display_data"
    },
    {
     "data": {
      "application/vnd.jupyter.widget-view+json": {
       "model_id": "e6c4cc88f6044669a70b885680027521",
       "version_major": 2,
       "version_minor": 0
      },
      "text/plain": [
       "Validation: |          | 0/? [00:00<?, ?it/s]"
      ]
     },
     "metadata": {},
     "output_type": "display_data"
    },
    {
     "data": {
      "application/vnd.jupyter.widget-view+json": {
       "model_id": "53807c20833747d0b3038eb4426cd5e1",
       "version_major": 2,
       "version_minor": 0
      },
      "text/plain": [
       "Validation: |          | 0/? [00:00<?, ?it/s]"
      ]
     },
     "metadata": {},
     "output_type": "display_data"
    },
    {
     "data": {
      "application/vnd.jupyter.widget-view+json": {
       "model_id": "f4ce5abcecd640cea81639bf0791b064",
       "version_major": 2,
       "version_minor": 0
      },
      "text/plain": [
       "Validation: |          | 0/? [00:00<?, ?it/s]"
      ]
     },
     "metadata": {},
     "output_type": "display_data"
    },
    {
     "data": {
      "application/vnd.jupyter.widget-view+json": {
       "model_id": "8f4de0922a084d55b66cb11cf7063e62",
       "version_major": 2,
       "version_minor": 0
      },
      "text/plain": [
       "Validation: |          | 0/? [00:00<?, ?it/s]"
      ]
     },
     "metadata": {},
     "output_type": "display_data"
    },
    {
     "data": {
      "application/vnd.jupyter.widget-view+json": {
       "model_id": "a36515d5c46c43c6a3dce9210923a847",
       "version_major": 2,
       "version_minor": 0
      },
      "text/plain": [
       "Validation: |          | 0/? [00:00<?, ?it/s]"
      ]
     },
     "metadata": {},
     "output_type": "display_data"
    },
    {
     "data": {
      "application/vnd.jupyter.widget-view+json": {
       "model_id": "875dc40e63e54a6eb728a364ebc085b7",
       "version_major": 2,
       "version_minor": 0
      },
      "text/plain": [
       "Validation: |          | 0/? [00:00<?, ?it/s]"
      ]
     },
     "metadata": {},
     "output_type": "display_data"
    },
    {
     "data": {
      "application/vnd.jupyter.widget-view+json": {
       "model_id": "a77b8608f5df460db13c03991227048c",
       "version_major": 2,
       "version_minor": 0
      },
      "text/plain": [
       "Validation: |          | 0/? [00:00<?, ?it/s]"
      ]
     },
     "metadata": {},
     "output_type": "display_data"
    },
    {
     "data": {
      "application/vnd.jupyter.widget-view+json": {
       "model_id": "f49fc1512ffe4f788c0aa11fcf653670",
       "version_major": 2,
       "version_minor": 0
      },
      "text/plain": [
       "Validation: |          | 0/? [00:00<?, ?it/s]"
      ]
     },
     "metadata": {},
     "output_type": "display_data"
    },
    {
     "data": {
      "application/vnd.jupyter.widget-view+json": {
       "model_id": "eecc1cf0004c456092927d1326fcfb6d",
       "version_major": 2,
       "version_minor": 0
      },
      "text/plain": [
       "Validation: |          | 0/? [00:00<?, ?it/s]"
      ]
     },
     "metadata": {},
     "output_type": "display_data"
    },
    {
     "name": "stderr",
     "output_type": "stream",
     "text": [
      "`Trainer.fit` stopped: `max_epochs=10` reached.\n",
      "LOCAL_RANK: 0 - CUDA_VISIBLE_DEVICES: [0]\n",
      "wandb: WARNING Config item 'dense_neurons' was locked by 'sweep' (ignored update).\n",
      "wandb: WARNING Config item 'learning_rate' was locked by 'sweep' (ignored update).\n",
      "wandb: WARNING Config item 'use_batch_norm' was locked by 'sweep' (ignored update).\n",
      "wandb: WARNING Config item 'dropout_rate' was locked by 'sweep' (ignored update).\n"
     ]
    },
    {
     "data": {
      "application/vnd.jupyter.widget-view+json": {
       "model_id": "bb915640caf540d2887db71e96b9d489",
       "version_major": 2,
       "version_minor": 0
      },
      "text/plain": [
       "Testing: |          | 0/? [00:00<?, ?it/s]"
      ]
     },
     "metadata": {},
     "output_type": "display_data"
    },
    {
     "data": {
      "text/html": [
       "<pre style=\"white-space:pre;overflow-x:auto;line-height:normal;font-family:Menlo,'DejaVu Sans Mono',consolas,'Courier New',monospace\">┏━━━━━━━━━━━━━━━━━━━━━━━━━━━┳━━━━━━━━━━━━━━━━━━━━━━━━━━━┓\n",
       "┃<span style=\"font-weight: bold\">        Test metric        </span>┃<span style=\"font-weight: bold\">       DataLoader 0        </span>┃\n",
       "┡━━━━━━━━━━━━━━━━━━━━━━━━━━━╇━━━━━━━━━━━━━━━━━━━━━━━━━━━┩\n",
       "│<span style=\"color: #008080; text-decoration-color: #008080\">         test_acc          </span>│<span style=\"color: #800080; text-decoration-color: #800080\">    0.25699999928474426    </span>│\n",
       "│<span style=\"color: #008080; text-decoration-color: #008080\">         test_loss         </span>│<span style=\"color: #800080; text-decoration-color: #800080\">    2.0771772861480713     </span>│\n",
       "└───────────────────────────┴───────────────────────────┘\n",
       "</pre>\n"
      ],
      "text/plain": [
       "┏━━━━━━━━━━━━━━━━━━━━━━━━━━━┳━━━━━━━━━━━━━━━━━━━━━━━━━━━┓\n",
       "┃\u001b[1m \u001b[0m\u001b[1m       Test metric       \u001b[0m\u001b[1m \u001b[0m┃\u001b[1m \u001b[0m\u001b[1m      DataLoader 0       \u001b[0m\u001b[1m \u001b[0m┃\n",
       "┡━━━━━━━━━━━━━━━━━━━━━━━━━━━╇━━━━━━━━━━━━━━━━━━━━━━━━━━━┩\n",
       "│\u001b[36m \u001b[0m\u001b[36m        test_acc         \u001b[0m\u001b[36m \u001b[0m│\u001b[35m \u001b[0m\u001b[35m   0.25699999928474426   \u001b[0m\u001b[35m \u001b[0m│\n",
       "│\u001b[36m \u001b[0m\u001b[36m        test_loss        \u001b[0m\u001b[36m \u001b[0m│\u001b[35m \u001b[0m\u001b[35m   2.0771772861480713    \u001b[0m\u001b[35m \u001b[0m│\n",
       "└───────────────────────────┴───────────────────────────┘\n"
      ]
     },
     "metadata": {},
     "output_type": "display_data"
    },
    {
     "data": {
      "text/html": [],
      "text/plain": [
       "<IPython.core.display.HTML object>"
      ]
     },
     "metadata": {},
     "output_type": "display_data"
    },
    {
     "data": {
      "text/html": [
       "<br>    <style><br>        .wandb-row {<br>            display: flex;<br>            flex-direction: row;<br>            flex-wrap: wrap;<br>            justify-content: flex-start;<br>            width: 100%;<br>        }<br>        .wandb-col {<br>            display: flex;<br>            flex-direction: column;<br>            flex-basis: 100%;<br>            flex: 1;<br>            padding: 10px;<br>        }<br>    </style><br><div class=\"wandb-row\"><div class=\"wandb-col\"><h3>Run history:</h3><br/><table class=\"wandb\"><tr><td>epoch</td><td>▁▁▁▁▁▁▂▂▂▂▂▂▃▃▃▃▄▄▄▄▄▄▅▅▅▅▅▅▅▅▆▆▇▇▇▇▇▇▇█</td></tr><tr><td>test_acc</td><td>▁▁</td></tr><tr><td>test_loss</td><td>▁▁</td></tr><tr><td>train_acc_epoch</td><td>▁▃▅▆▇▇▇███</td></tr><tr><td>train_acc_step</td><td>▂▂▁▂▅▆▅▃▅▂▄▄▃▅▂▅▆▆▅▅▅▅▂▃▃▃▅█▆▄▅▇▇▄▅▂▆▇▅▄</td></tr><tr><td>train_loss_epoch</td><td>█▇▅▅▃▃▂▂▁▁</td></tr><tr><td>train_loss_step</td><td>▇█▆▆▇▆▅▄▅▄▅▅▃▃▄▂▂▄▂▃▃▆▄▃▂▄▁▃▆▂▂▁▅▃▃▅▄▂▃▆</td></tr><tr><td>trainer/global_step</td><td>▁▁▁▁▂▂▂▂▂▂▃▃▃▃▃▄▄▄▄▄▅▅▅▅▅▅▆▆▆▆▆▆▇▇▇▇▇▇██</td></tr><tr><td>val_acc</td><td>▁▃▅▅▅▆▇▇██</td></tr><tr><td>val_loss</td><td>█▇▅▅▄▃▃▄▁▁</td></tr></table><br/></div><div class=\"wandb-col\"><h3>Run summary:</h3><br/><table class=\"wandb\"><tr><td>epoch</td><td>10</td></tr><tr><td>test_acc</td><td>0.257</td></tr><tr><td>test_loss</td><td>2.07718</td></tr><tr><td>train_acc_epoch</td><td>0.26116</td></tr><tr><td>train_acc_step</td><td>0.19355</td></tr><tr><td>train_loss_epoch</td><td>2.05794</td></tr><tr><td>train_loss_step</td><td>2.27768</td></tr><tr><td>trainer/global_step</td><td>2500</td></tr><tr><td>val_acc</td><td>0.2645</td></tr><tr><td>val_loss</td><td>2.03626</td></tr></table><br/></div></div>"
      ],
      "text/plain": [
       "<IPython.core.display.HTML object>"
      ]
     },
     "metadata": {},
     "output_type": "display_data"
    },
    {
     "data": {
      "text/html": [
       " View run <strong style=\"color:#cdcd00\">giddy-sweep-2</strong> at: <a href='https://wandb.ai/bullseye2608-indian-institute-of-technology-madras/inaturalist-cnn/runs/f0o4maek' target=\"_blank\">https://wandb.ai/bullseye2608-indian-institute-of-technology-madras/inaturalist-cnn/runs/f0o4maek</a><br> View project at: <a href='https://wandb.ai/bullseye2608-indian-institute-of-technology-madras/inaturalist-cnn' target=\"_blank\">https://wandb.ai/bullseye2608-indian-institute-of-technology-madras/inaturalist-cnn</a><br>Synced 5 W&B file(s), 0 media file(s), 0 artifact file(s) and 0 other file(s)"
      ],
      "text/plain": [
       "<IPython.core.display.HTML object>"
      ]
     },
     "metadata": {},
     "output_type": "display_data"
    },
    {
     "data": {
      "text/html": [
       "Find logs at: <code>.\\wandb\\run-20250418_003658-f0o4maek\\logs</code>"
      ],
      "text/plain": [
       "<IPython.core.display.HTML object>"
      ]
     },
     "metadata": {},
     "output_type": "display_data"
    },
    {
     "name": "stderr",
     "output_type": "stream",
     "text": [
      "wandb: Agent Starting Run: m31ifv59 with config:\n",
      "wandb: \tactivation: elu\n",
      "wandb: \tbatch_size: 128\n",
      "wandb: \tconv_filters_pattern: 64,64,64,64,64\n",
      "wandb: \tdense_neurons: 256\n",
      "wandb: \tdropout_rate: 0.5\n",
      "wandb: \tlearning_rate: 0.0008754906964621385\n",
      "wandb: \tuse_batch_norm: True\n",
      "wandb: \tuse_data_augmentation: True\n"
     ]
    },
    {
     "data": {
      "text/html": [
       "Tracking run with wandb version 0.19.7"
      ],
      "text/plain": [
       "<IPython.core.display.HTML object>"
      ]
     },
     "metadata": {},
     "output_type": "display_data"
    },
    {
     "data": {
      "text/html": [
       "Run data is saved locally in <code>c:\\Users\\DELL\\Desktop\\Coding\\Python\\DL\\Assignment 2\\da6401_assignment2\\partA\\wandb\\run-20250418_010755-m31ifv59</code>"
      ],
      "text/plain": [
       "<IPython.core.display.HTML object>"
      ]
     },
     "metadata": {},
     "output_type": "display_data"
    },
    {
     "data": {
      "text/html": [
       "Syncing run <strong><a href='https://wandb.ai/bullseye2608-indian-institute-of-technology-madras/inaturalist-cnn/runs/m31ifv59' target=\"_blank\">leafy-sweep-12</a></strong> to <a href='https://wandb.ai/bullseye2608-indian-institute-of-technology-madras/inaturalist-cnn' target=\"_blank\">Weights & Biases</a> (<a href='https://wandb.me/developer-guide' target=\"_blank\">docs</a>)<br>Sweep page: <a href='https://wandb.ai/bullseye2608-indian-institute-of-technology-madras/inaturalist-cnn/sweeps/kn08nm99' target=\"_blank\">https://wandb.ai/bullseye2608-indian-institute-of-technology-madras/inaturalist-cnn/sweeps/kn08nm99</a>"
      ],
      "text/plain": [
       "<IPython.core.display.HTML object>"
      ]
     },
     "metadata": {},
     "output_type": "display_data"
    },
    {
     "data": {
      "text/html": [
       " View project at <a href='https://wandb.ai/bullseye2608-indian-institute-of-technology-madras/inaturalist-cnn' target=\"_blank\">https://wandb.ai/bullseye2608-indian-institute-of-technology-madras/inaturalist-cnn</a>"
      ],
      "text/plain": [
       "<IPython.core.display.HTML object>"
      ]
     },
     "metadata": {},
     "output_type": "display_data"
    },
    {
     "data": {
      "text/html": [
       " View sweep at <a href='https://wandb.ai/bullseye2608-indian-institute-of-technology-madras/inaturalist-cnn/sweeps/kn08nm99' target=\"_blank\">https://wandb.ai/bullseye2608-indian-institute-of-technology-madras/inaturalist-cnn/sweeps/kn08nm99</a>"
      ],
      "text/plain": [
       "<IPython.core.display.HTML object>"
      ]
     },
     "metadata": {},
     "output_type": "display_data"
    },
    {
     "data": {
      "text/html": [
       " View run at <a href='https://wandb.ai/bullseye2608-indian-institute-of-technology-madras/inaturalist-cnn/runs/m31ifv59' target=\"_blank\">https://wandb.ai/bullseye2608-indian-institute-of-technology-madras/inaturalist-cnn/runs/m31ifv59</a>"
      ],
      "text/plain": [
       "<IPython.core.display.HTML object>"
      ]
     },
     "metadata": {},
     "output_type": "display_data"
    },
    {
     "name": "stderr",
     "output_type": "stream",
     "text": [
      "GPU available: True (cuda), used: True\n",
      "TPU available: False, using: 0 TPU cores\n",
      "HPU available: False, using: 0 HPUs\n",
      "LOCAL_RANK: 0 - CUDA_VISIBLE_DEVICES: [0]\n",
      "\n",
      "  | Name        | Type        | Params | Mode \n",
      "----------------------------------------------------\n",
      "0 | conv_blocks | ModuleList  | 150 K  | train\n",
      "1 | fc1         | Linear      | 803 K  | train\n",
      "2 | bn_fc       | BatchNorm1d | 512    | train\n",
      "3 | dropout     | Dropout     | 0      | train\n",
      "4 | fc2         | Linear      | 2.6 K  | train\n",
      "----------------------------------------------------\n",
      "956 K     Trainable params\n",
      "0         Non-trainable params\n",
      "956 K     Total params\n",
      "3.825     Total estimated model params size (MB)\n",
      "35        Modules in train mode\n",
      "0         Modules in eval mode\n",
      "wandb: WARNING Config item 'dense_neurons' was locked by 'sweep' (ignored update).\n",
      "wandb: WARNING Config item 'learning_rate' was locked by 'sweep' (ignored update).\n",
      "wandb: WARNING Config item 'use_batch_norm' was locked by 'sweep' (ignored update).\n",
      "wandb: WARNING Config item 'dropout_rate' was locked by 'sweep' (ignored update).\n"
     ]
    },
    {
     "data": {
      "application/vnd.jupyter.widget-view+json": {
       "model_id": "0c54c6ce71b24bed9b39eab3234faf39",
       "version_major": 2,
       "version_minor": 0
      },
      "text/plain": [
       "Sanity Checking: |          | 0/? [00:00<?, ?it/s]"
      ]
     },
     "metadata": {},
     "output_type": "display_data"
    },
    {
     "data": {
      "application/vnd.jupyter.widget-view+json": {
       "model_id": "39828cedb78b4b838706fc75a7c414b4",
       "version_major": 2,
       "version_minor": 0
      },
      "text/plain": [
       "Training: |          | 0/? [00:00<?, ?it/s]"
      ]
     },
     "metadata": {},
     "output_type": "display_data"
    },
    {
     "data": {
      "application/vnd.jupyter.widget-view+json": {
       "model_id": "df8362cc9ba64a29837c4f51fa204ea9",
       "version_major": 2,
       "version_minor": 0
      },
      "text/plain": [
       "Validation: |          | 0/? [00:00<?, ?it/s]"
      ]
     },
     "metadata": {},
     "output_type": "display_data"
    },
    {
     "data": {
      "application/vnd.jupyter.widget-view+json": {
       "model_id": "94aed27045524b15a072804d4634d99a",
       "version_major": 2,
       "version_minor": 0
      },
      "text/plain": [
       "Validation: |          | 0/? [00:00<?, ?it/s]"
      ]
     },
     "metadata": {},
     "output_type": "display_data"
    },
    {
     "data": {
      "application/vnd.jupyter.widget-view+json": {
       "model_id": "bffb5457277f4d60b852d6f3be89137b",
       "version_major": 2,
       "version_minor": 0
      },
      "text/plain": [
       "Validation: |          | 0/? [00:00<?, ?it/s]"
      ]
     },
     "metadata": {},
     "output_type": "display_data"
    },
    {
     "data": {
      "application/vnd.jupyter.widget-view+json": {
       "model_id": "66e112b94a20470a8b8d8430fb41a190",
       "version_major": 2,
       "version_minor": 0
      },
      "text/plain": [
       "Validation: |          | 0/? [00:00<?, ?it/s]"
      ]
     },
     "metadata": {},
     "output_type": "display_data"
    },
    {
     "data": {
      "application/vnd.jupyter.widget-view+json": {
       "model_id": "770d06e839ec474989df0bc308a06f99",
       "version_major": 2,
       "version_minor": 0
      },
      "text/plain": [
       "Validation: |          | 0/? [00:00<?, ?it/s]"
      ]
     },
     "metadata": {},
     "output_type": "display_data"
    },
    {
     "data": {
      "application/vnd.jupyter.widget-view+json": {
       "model_id": "a0ed4350057f4cbba6609d4edc57c07d",
       "version_major": 2,
       "version_minor": 0
      },
      "text/plain": [
       "Validation: |          | 0/? [00:00<?, ?it/s]"
      ]
     },
     "metadata": {},
     "output_type": "display_data"
    },
    {
     "data": {
      "application/vnd.jupyter.widget-view+json": {
       "model_id": "931a2aa6523d4b63a45be39d6382495b",
       "version_major": 2,
       "version_minor": 0
      },
      "text/plain": [
       "Validation: |          | 0/? [00:00<?, ?it/s]"
      ]
     },
     "metadata": {},
     "output_type": "display_data"
    },
    {
     "data": {
      "application/vnd.jupyter.widget-view+json": {
       "model_id": "1df1b9f130794489968a70cfe68c705d",
       "version_major": 2,
       "version_minor": 0
      },
      "text/plain": [
       "Validation: |          | 0/? [00:00<?, ?it/s]"
      ]
     },
     "metadata": {},
     "output_type": "display_data"
    },
    {
     "data": {
      "application/vnd.jupyter.widget-view+json": {
       "model_id": "82526142014f40d18a2832e53f7d83e0",
       "version_major": 2,
       "version_minor": 0
      },
      "text/plain": [
       "Validation: |          | 0/? [00:00<?, ?it/s]"
      ]
     },
     "metadata": {},
     "output_type": "display_data"
    },
    {
     "data": {
      "application/vnd.jupyter.widget-view+json": {
       "model_id": "0019a83861724db0a34ca0a9cfca0b2b",
       "version_major": 2,
       "version_minor": 0
      },
      "text/plain": [
       "Validation: |          | 0/? [00:00<?, ?it/s]"
      ]
     },
     "metadata": {},
     "output_type": "display_data"
    },
    {
     "name": "stderr",
     "output_type": "stream",
     "text": [
      "`Trainer.fit` stopped: `max_epochs=10` reached.\n",
      "LOCAL_RANK: 0 - CUDA_VISIBLE_DEVICES: [0]\n",
      "wandb: WARNING Config item 'dense_neurons' was locked by 'sweep' (ignored update).\n",
      "wandb: WARNING Config item 'learning_rate' was locked by 'sweep' (ignored update).\n",
      "wandb: WARNING Config item 'use_batch_norm' was locked by 'sweep' (ignored update).\n",
      "wandb: WARNING Config item 'dropout_rate' was locked by 'sweep' (ignored update).\n"
     ]
    },
    {
     "data": {
      "application/vnd.jupyter.widget-view+json": {
       "model_id": "7c5d737b51b14336bd6c0b264f0882ab",
       "version_major": 2,
       "version_minor": 0
      },
      "text/plain": [
       "Testing: |          | 0/? [00:00<?, ?it/s]"
      ]
     },
     "metadata": {},
     "output_type": "display_data"
    },
    {
     "data": {
      "text/html": [
       "<pre style=\"white-space:pre;overflow-x:auto;line-height:normal;font-family:Menlo,'DejaVu Sans Mono',consolas,'Courier New',monospace\">┏━━━━━━━━━━━━━━━━━━━━━━━━━━━┳━━━━━━━━━━━━━━━━━━━━━━━━━━━┓\n",
       "┃<span style=\"font-weight: bold\">        Test metric        </span>┃<span style=\"font-weight: bold\">       DataLoader 0        </span>┃\n",
       "┡━━━━━━━━━━━━━━━━━━━━━━━━━━━╇━━━━━━━━━━━━━━━━━━━━━━━━━━━┩\n",
       "│<span style=\"color: #008080; text-decoration-color: #008080\">         test_acc          </span>│<span style=\"color: #800080; text-decoration-color: #800080\">    0.3165000081062317     </span>│\n",
       "│<span style=\"color: #008080; text-decoration-color: #008080\">         test_loss         </span>│<span style=\"color: #800080; text-decoration-color: #800080\">    1.9584581851959229     </span>│\n",
       "└───────────────────────────┴───────────────────────────┘\n",
       "</pre>\n"
      ],
      "text/plain": [
       "┏━━━━━━━━━━━━━━━━━━━━━━━━━━━┳━━━━━━━━━━━━━━━━━━━━━━━━━━━┓\n",
       "┃\u001b[1m \u001b[0m\u001b[1m       Test metric       \u001b[0m\u001b[1m \u001b[0m┃\u001b[1m \u001b[0m\u001b[1m      DataLoader 0       \u001b[0m\u001b[1m \u001b[0m┃\n",
       "┡━━━━━━━━━━━━━━━━━━━━━━━━━━━╇━━━━━━━━━━━━━━━━━━━━━━━━━━━┩\n",
       "│\u001b[36m \u001b[0m\u001b[36m        test_acc         \u001b[0m\u001b[36m \u001b[0m│\u001b[35m \u001b[0m\u001b[35m   0.3165000081062317    \u001b[0m\u001b[35m \u001b[0m│\n",
       "│\u001b[36m \u001b[0m\u001b[36m        test_loss        \u001b[0m\u001b[36m \u001b[0m│\u001b[35m \u001b[0m\u001b[35m   1.9584581851959229    \u001b[0m\u001b[35m \u001b[0m│\n",
       "└───────────────────────────┴───────────────────────────┘\n"
      ]
     },
     "metadata": {},
     "output_type": "display_data"
    },
    {
     "data": {
      "text/html": [],
      "text/plain": [
       "<IPython.core.display.HTML object>"
      ]
     },
     "metadata": {},
     "output_type": "display_data"
    },
    {
     "name": "stderr",
     "output_type": "stream",
     "text": [
      "wandb: Network error (ConnectionError), entering retry loop.\n"
     ]
    },
    {
     "data": {
      "text/html": [
       "<br>    <style><br>        .wandb-row {<br>            display: flex;<br>            flex-direction: row;<br>            flex-wrap: wrap;<br>            justify-content: flex-start;<br>            width: 100%;<br>        }<br>        .wandb-col {<br>            display: flex;<br>            flex-direction: column;<br>            flex-basis: 100%;<br>            flex: 1;<br>            padding: 10px;<br>        }<br>    </style><br><div class=\"wandb-row\"><div class=\"wandb-col\"><h3>Run history:</h3><br/><table class=\"wandb\"><tr><td>epoch</td><td>▁▁▁▂▂▂▂▂▂▃▃▃▃▄▄▄▅▅▅▅▅▅▆▆▆▆▇▇▇▇▇▇█</td></tr><tr><td>test_acc</td><td>▁▁</td></tr><tr><td>test_loss</td><td>▁▁</td></tr><tr><td>train_acc_epoch</td><td>▁▄▅▆▇▇████</td></tr><tr><td>train_acc_step</td><td>▄▆▅▁▇▇▆█▇▆██</td></tr><tr><td>train_loss_epoch</td><td>█▄▃▃▂▂▂▁▁▁</td></tr><tr><td>train_loss_step</td><td>█▆▄█▄▄▇▅▆▂▅▁</td></tr><tr><td>trainer/global_step</td><td>▁▁▁▂▂▂▂▃▃▃▃▃▃▄▄▄▅▅▅▅▆▆▆▆▆▆▇▇▇████</td></tr><tr><td>val_acc</td><td>▁▄▄▅▆▄▆▆▆█</td></tr><tr><td>val_loss</td><td>█▅▄▃▃▂▃▂▂▁</td></tr></table><br/></div><div class=\"wandb-col\"><h3>Run summary:</h3><br/><table class=\"wandb\"><tr><td>epoch</td><td>10</td></tr><tr><td>test_acc</td><td>0.3165</td></tr><tr><td>test_loss</td><td>1.95846</td></tr><tr><td>train_acc_epoch</td><td>0.25453</td></tr><tr><td>train_acc_step</td><td>0.26562</td></tr><tr><td>train_loss_epoch</td><td>2.07681</td></tr><tr><td>train_loss_step</td><td>1.9621</td></tr><tr><td>trainer/global_step</td><td>630</td></tr><tr><td>val_acc</td><td>0.3285</td></tr><tr><td>val_loss</td><td>1.95259</td></tr></table><br/></div></div>"
      ],
      "text/plain": [
       "<IPython.core.display.HTML object>"
      ]
     },
     "metadata": {},
     "output_type": "display_data"
    },
    {
     "data": {
      "text/html": [
       " View run <strong style=\"color:#cdcd00\">leafy-sweep-12</strong> at: <a href='https://wandb.ai/bullseye2608-indian-institute-of-technology-madras/inaturalist-cnn/runs/m31ifv59' target=\"_blank\">https://wandb.ai/bullseye2608-indian-institute-of-technology-madras/inaturalist-cnn/runs/m31ifv59</a><br> View project at: <a href='https://wandb.ai/bullseye2608-indian-institute-of-technology-madras/inaturalist-cnn' target=\"_blank\">https://wandb.ai/bullseye2608-indian-institute-of-technology-madras/inaturalist-cnn</a><br>Synced 5 W&B file(s), 0 media file(s), 0 artifact file(s) and 0 other file(s)"
      ],
      "text/plain": [
       "<IPython.core.display.HTML object>"
      ]
     },
     "metadata": {},
     "output_type": "display_data"
    },
    {
     "data": {
      "text/html": [
       "Find logs at: <code>.\\wandb\\run-20250418_010755-m31ifv59\\logs</code>"
      ],
      "text/plain": [
       "<IPython.core.display.HTML object>"
      ]
     },
     "metadata": {},
     "output_type": "display_data"
    },
    {
     "name": "stderr",
     "output_type": "stream",
     "text": [
      "wandb: Sweep Agent: Waiting for job.\n",
      "wandb: Job received.\n",
      "wandb: Agent Starting Run: aou4haqz with config:\n",
      "wandb: \tactivation: leaky_relu\n",
      "wandb: \tbatch_size: 128\n",
      "wandb: \tconv_filters_pattern: 32,64,128,64,32\n",
      "wandb: \tdense_neurons: 128\n",
      "wandb: \tdropout_rate: 0.5\n",
      "wandb: \tlearning_rate: 0.0003756332509562994\n",
      "wandb: \tuse_batch_norm: False\n",
      "wandb: \tuse_data_augmentation: True\n"
     ]
    },
    {
     "data": {
      "text/html": [
       "Tracking run with wandb version 0.19.7"
      ],
      "text/plain": [
       "<IPython.core.display.HTML object>"
      ]
     },
     "metadata": {},
     "output_type": "display_data"
    },
    {
     "data": {
      "text/html": [
       "Run data is saved locally in <code>c:\\Users\\DELL\\Desktop\\Coding\\Python\\DL\\Assignment 2\\da6401_assignment2\\partA\\wandb\\run-20250418_124939-aou4haqz</code>"
      ],
      "text/plain": [
       "<IPython.core.display.HTML object>"
      ]
     },
     "metadata": {},
     "output_type": "display_data"
    },
    {
     "data": {
      "text/html": [
       "Syncing run <strong><a href='https://wandb.ai/bullseye2608-indian-institute-of-technology-madras/inaturalist-cnn/runs/aou4haqz' target=\"_blank\">icy-sweep-61</a></strong> to <a href='https://wandb.ai/bullseye2608-indian-institute-of-technology-madras/inaturalist-cnn' target=\"_blank\">Weights & Biases</a> (<a href='https://wandb.me/developer-guide' target=\"_blank\">docs</a>)<br>Sweep page: <a href='https://wandb.ai/bullseye2608-indian-institute-of-technology-madras/inaturalist-cnn/sweeps/kn08nm99' target=\"_blank\">https://wandb.ai/bullseye2608-indian-institute-of-technology-madras/inaturalist-cnn/sweeps/kn08nm99</a>"
      ],
      "text/plain": [
       "<IPython.core.display.HTML object>"
      ]
     },
     "metadata": {},
     "output_type": "display_data"
    },
    {
     "data": {
      "text/html": [
       " View project at <a href='https://wandb.ai/bullseye2608-indian-institute-of-technology-madras/inaturalist-cnn' target=\"_blank\">https://wandb.ai/bullseye2608-indian-institute-of-technology-madras/inaturalist-cnn</a>"
      ],
      "text/plain": [
       "<IPython.core.display.HTML object>"
      ]
     },
     "metadata": {},
     "output_type": "display_data"
    },
    {
     "data": {
      "text/html": [
       " View sweep at <a href='https://wandb.ai/bullseye2608-indian-institute-of-technology-madras/inaturalist-cnn/sweeps/kn08nm99' target=\"_blank\">https://wandb.ai/bullseye2608-indian-institute-of-technology-madras/inaturalist-cnn/sweeps/kn08nm99</a>"
      ],
      "text/plain": [
       "<IPython.core.display.HTML object>"
      ]
     },
     "metadata": {},
     "output_type": "display_data"
    },
    {
     "data": {
      "text/html": [
       " View run at <a href='https://wandb.ai/bullseye2608-indian-institute-of-technology-madras/inaturalist-cnn/runs/aou4haqz' target=\"_blank\">https://wandb.ai/bullseye2608-indian-institute-of-technology-madras/inaturalist-cnn/runs/aou4haqz</a>"
      ],
      "text/plain": [
       "<IPython.core.display.HTML object>"
      ]
     },
     "metadata": {},
     "output_type": "display_data"
    },
    {
     "name": "stderr",
     "output_type": "stream",
     "text": [
      "GPU available: True (cuda), used: True\n",
      "TPU available: False, using: 0 TPU cores\n",
      "HPU available: False, using: 0 HPUs\n",
      "LOCAL_RANK: 0 - CUDA_VISIBLE_DEVICES: [0]\n",
      "\n",
      "  | Name        | Type       | Params | Mode \n",
      "---------------------------------------------------\n",
      "0 | conv_blocks | ModuleList | 185 K  | train\n",
      "1 | fc1         | Linear     | 200 K  | train\n",
      "2 | dropout     | Dropout    | 0      | train\n",
      "3 | fc2         | Linear     | 1.3 K  | train\n",
      "---------------------------------------------------\n",
      "387 K     Trainable params\n",
      "0         Non-trainable params\n",
      "387 K     Total params\n",
      "1.551     Total estimated model params size (MB)\n",
      "29        Modules in train mode\n",
      "0         Modules in eval mode\n",
      "wandb: WARNING Config item 'dense_neurons' was locked by 'sweep' (ignored update).\n",
      "wandb: WARNING Config item 'learning_rate' was locked by 'sweep' (ignored update).\n",
      "wandb: WARNING Config item 'use_batch_norm' was locked by 'sweep' (ignored update).\n",
      "wandb: WARNING Config item 'dropout_rate' was locked by 'sweep' (ignored update).\n"
     ]
    },
    {
     "data": {
      "application/vnd.jupyter.widget-view+json": {
       "model_id": "97b78125c7b04a17b80a657fd11fc3ae",
       "version_major": 2,
       "version_minor": 0
      },
      "text/plain": [
       "Sanity Checking: |          | 0/? [00:00<?, ?it/s]"
      ]
     },
     "metadata": {},
     "output_type": "display_data"
    },
    {
     "data": {
      "application/vnd.jupyter.widget-view+json": {
       "model_id": "120573329c5b441c80efe08178484ce7",
       "version_major": 2,
       "version_minor": 0
      },
      "text/plain": [
       "Training: |          | 0/? [00:00<?, ?it/s]"
      ]
     },
     "metadata": {},
     "output_type": "display_data"
    },
    {
     "data": {
      "application/vnd.jupyter.widget-view+json": {
       "model_id": "f836d2730d47463481bf8eb1615ebf4a",
       "version_major": 2,
       "version_minor": 0
      },
      "text/plain": [
       "Validation: |          | 0/? [00:00<?, ?it/s]"
      ]
     },
     "metadata": {},
     "output_type": "display_data"
    },
    {
     "data": {
      "application/vnd.jupyter.widget-view+json": {
       "model_id": "a02bfa92790b435f947b446d4c69792b",
       "version_major": 2,
       "version_minor": 0
      },
      "text/plain": [
       "Validation: |          | 0/? [00:00<?, ?it/s]"
      ]
     },
     "metadata": {},
     "output_type": "display_data"
    },
    {
     "data": {
      "application/vnd.jupyter.widget-view+json": {
       "model_id": "862cd865f171415c8e9b4bb08cb69b16",
       "version_major": 2,
       "version_minor": 0
      },
      "text/plain": [
       "Validation: |          | 0/? [00:00<?, ?it/s]"
      ]
     },
     "metadata": {},
     "output_type": "display_data"
    },
    {
     "data": {
      "application/vnd.jupyter.widget-view+json": {
       "model_id": "4393e7d44a8048ee8628ba1899355534",
       "version_major": 2,
       "version_minor": 0
      },
      "text/plain": [
       "Validation: |          | 0/? [00:00<?, ?it/s]"
      ]
     },
     "metadata": {},
     "output_type": "display_data"
    },
    {
     "data": {
      "application/vnd.jupyter.widget-view+json": {
       "model_id": "474035f2b6e8425d9efef246cf1e29d0",
       "version_major": 2,
       "version_minor": 0
      },
      "text/plain": [
       "Validation: |          | 0/? [00:00<?, ?it/s]"
      ]
     },
     "metadata": {},
     "output_type": "display_data"
    },
    {
     "data": {
      "application/vnd.jupyter.widget-view+json": {
       "model_id": "ef0d19b2465a4d2290df84770efcb49a",
       "version_major": 2,
       "version_minor": 0
      },
      "text/plain": [
       "Validation: |          | 0/? [00:00<?, ?it/s]"
      ]
     },
     "metadata": {},
     "output_type": "display_data"
    },
    {
     "data": {
      "application/vnd.jupyter.widget-view+json": {
       "model_id": "9f778a5fde584f05ab6f8cd18d5f447b",
       "version_major": 2,
       "version_minor": 0
      },
      "text/plain": [
       "Validation: |          | 0/? [00:00<?, ?it/s]"
      ]
     },
     "metadata": {},
     "output_type": "display_data"
    },
    {
     "data": {
      "application/vnd.jupyter.widget-view+json": {
       "model_id": "4ca9726e064941a88c40ae57129b5974",
       "version_major": 2,
       "version_minor": 0
      },
      "text/plain": [
       "Validation: |          | 0/? [00:00<?, ?it/s]"
      ]
     },
     "metadata": {},
     "output_type": "display_data"
    },
    {
     "data": {
      "application/vnd.jupyter.widget-view+json": {
       "model_id": "50cdd8b1723f48a3a44b46ea718f7325",
       "version_major": 2,
       "version_minor": 0
      },
      "text/plain": [
       "Validation: |          | 0/? [00:00<?, ?it/s]"
      ]
     },
     "metadata": {},
     "output_type": "display_data"
    },
    {
     "data": {
      "application/vnd.jupyter.widget-view+json": {
       "model_id": "a987308d436f411cb42f51fc4817057d",
       "version_major": 2,
       "version_minor": 0
      },
      "text/plain": [
       "Validation: |          | 0/? [00:00<?, ?it/s]"
      ]
     },
     "metadata": {},
     "output_type": "display_data"
    },
    {
     "name": "stderr",
     "output_type": "stream",
     "text": [
      "`Trainer.fit` stopped: `max_epochs=10` reached.\n",
      "LOCAL_RANK: 0 - CUDA_VISIBLE_DEVICES: [0]\n",
      "wandb: WARNING Config item 'dense_neurons' was locked by 'sweep' (ignored update).\n",
      "wandb: WARNING Config item 'learning_rate' was locked by 'sweep' (ignored update).\n",
      "wandb: WARNING Config item 'use_batch_norm' was locked by 'sweep' (ignored update).\n",
      "wandb: WARNING Config item 'dropout_rate' was locked by 'sweep' (ignored update).\n"
     ]
    },
    {
     "data": {
      "application/vnd.jupyter.widget-view+json": {
       "model_id": "e1b3f4c24db74c7a9f4f34aedb535312",
       "version_major": 2,
       "version_minor": 0
      },
      "text/plain": [
       "Testing: |          | 0/? [00:00<?, ?it/s]"
      ]
     },
     "metadata": {},
     "output_type": "display_data"
    },
    {
     "data": {
      "text/html": [
       "<pre style=\"white-space:pre;overflow-x:auto;line-height:normal;font-family:Menlo,'DejaVu Sans Mono',consolas,'Courier New',monospace\">┏━━━━━━━━━━━━━━━━━━━━━━━━━━━┳━━━━━━━━━━━━━━━━━━━━━━━━━━━┓\n",
       "┃<span style=\"font-weight: bold\">        Test metric        </span>┃<span style=\"font-weight: bold\">       DataLoader 0        </span>┃\n",
       "┡━━━━━━━━━━━━━━━━━━━━━━━━━━━╇━━━━━━━━━━━━━━━━━━━━━━━━━━━┩\n",
       "│<span style=\"color: #008080; text-decoration-color: #008080\">         test_acc          </span>│<span style=\"color: #800080; text-decoration-color: #800080\">    0.2084999978542328     </span>│\n",
       "│<span style=\"color: #008080; text-decoration-color: #008080\">         test_loss         </span>│<span style=\"color: #800080; text-decoration-color: #800080\">    2.2057080268859863     </span>│\n",
       "└───────────────────────────┴───────────────────────────┘\n",
       "</pre>\n"
      ],
      "text/plain": [
       "┏━━━━━━━━━━━━━━━━━━━━━━━━━━━┳━━━━━━━━━━━━━━━━━━━━━━━━━━━┓\n",
       "┃\u001b[1m \u001b[0m\u001b[1m       Test metric       \u001b[0m\u001b[1m \u001b[0m┃\u001b[1m \u001b[0m\u001b[1m      DataLoader 0       \u001b[0m\u001b[1m \u001b[0m┃\n",
       "┡━━━━━━━━━━━━━━━━━━━━━━━━━━━╇━━━━━━━━━━━━━━━━━━━━━━━━━━━┩\n",
       "│\u001b[36m \u001b[0m\u001b[36m        test_acc         \u001b[0m\u001b[36m \u001b[0m│\u001b[35m \u001b[0m\u001b[35m   0.2084999978542328    \u001b[0m\u001b[35m \u001b[0m│\n",
       "│\u001b[36m \u001b[0m\u001b[36m        test_loss        \u001b[0m\u001b[36m \u001b[0m│\u001b[35m \u001b[0m\u001b[35m   2.2057080268859863    \u001b[0m\u001b[35m \u001b[0m│\n",
       "└───────────────────────────┴───────────────────────────┘\n"
      ]
     },
     "metadata": {},
     "output_type": "display_data"
    },
    {
     "data": {
      "text/html": [],
      "text/plain": [
       "<IPython.core.display.HTML object>"
      ]
     },
     "metadata": {},
     "output_type": "display_data"
    },
    {
     "data": {
      "text/html": [
       "<br>    <style><br>        .wandb-row {<br>            display: flex;<br>            flex-direction: row;<br>            flex-wrap: wrap;<br>            justify-content: flex-start;<br>            width: 100%;<br>        }<br>        .wandb-col {<br>            display: flex;<br>            flex-direction: column;<br>            flex-basis: 100%;<br>            flex: 1;<br>            padding: 10px;<br>        }<br>    </style><br><div class=\"wandb-row\"><div class=\"wandb-col\"><h3>Run history:</h3><br/><table class=\"wandb\"><tr><td>epoch</td><td>▁▁▁▂▂▂▂▂▂▃▃▃▃▄▄▄▅▅▅▅▅▅▆▆▆▆▇▇▇▇▇▇█</td></tr><tr><td>test_acc</td><td>▁▁</td></tr><tr><td>test_loss</td><td>▁▁</td></tr><tr><td>train_acc_epoch</td><td>▁▂▂▃▅▅▆▇▇█</td></tr><tr><td>train_acc_step</td><td>▃▁▃▄▄█▄▆▇▆▅█</td></tr><tr><td>train_loss_epoch</td><td>██▇▆▅▄▃▂▂▁</td></tr><tr><td>train_loss_step</td><td>██▇▅▄▅▆▃▁▃▂▂</td></tr><tr><td>trainer/global_step</td><td>▁▁▁▂▂▂▂▃▃▃▃▃▃▄▄▄▅▅▅▅▆▆▆▆▆▆▇▇▇████</td></tr><tr><td>val_acc</td><td>▁▂▂▅▆▆▇▇▇█</td></tr><tr><td>val_loss</td><td>██▇▅▄▃▃▃▂▁</td></tr></table><br/></div><div class=\"wandb-col\"><h3>Run summary:</h3><br/><table class=\"wandb\"><tr><td>epoch</td><td>10</td></tr><tr><td>test_acc</td><td>0.2085</td></tr><tr><td>test_loss</td><td>2.20571</td></tr><tr><td>train_acc_epoch</td><td>0.18715</td></tr><tr><td>train_acc_step</td><td>0.20312</td></tr><tr><td>train_loss_epoch</td><td>2.22128</td></tr><tr><td>train_loss_step</td><td>2.21384</td></tr><tr><td>trainer/global_step</td><td>630</td></tr><tr><td>val_acc</td><td>0.197</td></tr><tr><td>val_loss</td><td>2.20979</td></tr></table><br/></div></div>"
      ],
      "text/plain": [
       "<IPython.core.display.HTML object>"
      ]
     },
     "metadata": {},
     "output_type": "display_data"
    },
    {
     "data": {
      "text/html": [
       " View run <strong style=\"color:#cdcd00\">icy-sweep-61</strong> at: <a href='https://wandb.ai/bullseye2608-indian-institute-of-technology-madras/inaturalist-cnn/runs/aou4haqz' target=\"_blank\">https://wandb.ai/bullseye2608-indian-institute-of-technology-madras/inaturalist-cnn/runs/aou4haqz</a><br> View project at: <a href='https://wandb.ai/bullseye2608-indian-institute-of-technology-madras/inaturalist-cnn' target=\"_blank\">https://wandb.ai/bullseye2608-indian-institute-of-technology-madras/inaturalist-cnn</a><br>Synced 5 W&B file(s), 0 media file(s), 0 artifact file(s) and 0 other file(s)"
      ],
      "text/plain": [
       "<IPython.core.display.HTML object>"
      ]
     },
     "metadata": {},
     "output_type": "display_data"
    },
    {
     "data": {
      "text/html": [
       "Find logs at: <code>.\\wandb\\run-20250418_124939-aou4haqz\\logs</code>"
      ],
      "text/plain": [
       "<IPython.core.display.HTML object>"
      ]
     },
     "metadata": {},
     "output_type": "display_data"
    },
    {
     "name": "stderr",
     "output_type": "stream",
     "text": [
      "wandb: Sweep Agent: Waiting for job.\n",
      "wandb: Job received.\n",
      "wandb: Agent Starting Run: rnrszvox with config:\n",
      "wandb: \tactivation: elu\n",
      "wandb: \tbatch_size: 64\n",
      "wandb: \tconv_filters_pattern: 32,64,128,64,32\n",
      "wandb: \tdense_neurons: 256\n",
      "wandb: \tdropout_rate: 0.5\n",
      "wandb: \tlearning_rate: 0.00018049040676405349\n",
      "wandb: \tuse_batch_norm: False\n",
      "wandb: \tuse_data_augmentation: True\n"
     ]
    },
    {
     "data": {
      "text/html": [
       "Tracking run with wandb version 0.19.7"
      ],
      "text/plain": [
       "<IPython.core.display.HTML object>"
      ]
     },
     "metadata": {},
     "output_type": "display_data"
    },
    {
     "data": {
      "text/html": [
       "Run data is saved locally in <code>c:\\Users\\DELL\\Desktop\\Coding\\Python\\DL\\Assignment 2\\da6401_assignment2\\partA\\wandb\\run-20250418_131245-rnrszvox</code>"
      ],
      "text/plain": [
       "<IPython.core.display.HTML object>"
      ]
     },
     "metadata": {},
     "output_type": "display_data"
    },
    {
     "data": {
      "text/html": [
       "Syncing run <strong><a href='https://wandb.ai/bullseye2608-indian-institute-of-technology-madras/inaturalist-cnn/runs/rnrszvox' target=\"_blank\">ancient-sweep-62</a></strong> to <a href='https://wandb.ai/bullseye2608-indian-institute-of-technology-madras/inaturalist-cnn' target=\"_blank\">Weights & Biases</a> (<a href='https://wandb.me/developer-guide' target=\"_blank\">docs</a>)<br>Sweep page: <a href='https://wandb.ai/bullseye2608-indian-institute-of-technology-madras/inaturalist-cnn/sweeps/kn08nm99' target=\"_blank\">https://wandb.ai/bullseye2608-indian-institute-of-technology-madras/inaturalist-cnn/sweeps/kn08nm99</a>"
      ],
      "text/plain": [
       "<IPython.core.display.HTML object>"
      ]
     },
     "metadata": {},
     "output_type": "display_data"
    },
    {
     "data": {
      "text/html": [
       " View project at <a href='https://wandb.ai/bullseye2608-indian-institute-of-technology-madras/inaturalist-cnn' target=\"_blank\">https://wandb.ai/bullseye2608-indian-institute-of-technology-madras/inaturalist-cnn</a>"
      ],
      "text/plain": [
       "<IPython.core.display.HTML object>"
      ]
     },
     "metadata": {},
     "output_type": "display_data"
    },
    {
     "data": {
      "text/html": [
       " View sweep at <a href='https://wandb.ai/bullseye2608-indian-institute-of-technology-madras/inaturalist-cnn/sweeps/kn08nm99' target=\"_blank\">https://wandb.ai/bullseye2608-indian-institute-of-technology-madras/inaturalist-cnn/sweeps/kn08nm99</a>"
      ],
      "text/plain": [
       "<IPython.core.display.HTML object>"
      ]
     },
     "metadata": {},
     "output_type": "display_data"
    },
    {
     "data": {
      "text/html": [
       " View run at <a href='https://wandb.ai/bullseye2608-indian-institute-of-technology-madras/inaturalist-cnn/runs/rnrszvox' target=\"_blank\">https://wandb.ai/bullseye2608-indian-institute-of-technology-madras/inaturalist-cnn/runs/rnrszvox</a>"
      ],
      "text/plain": [
       "<IPython.core.display.HTML object>"
      ]
     },
     "metadata": {},
     "output_type": "display_data"
    },
    {
     "name": "stderr",
     "output_type": "stream",
     "text": [
      "GPU available: True (cuda), used: True\n",
      "TPU available: False, using: 0 TPU cores\n",
      "HPU available: False, using: 0 HPUs\n",
      "LOCAL_RANK: 0 - CUDA_VISIBLE_DEVICES: [0]\n",
      "\n",
      "  | Name        | Type       | Params | Mode \n",
      "---------------------------------------------------\n",
      "0 | conv_blocks | ModuleList | 185 K  | train\n",
      "1 | fc1         | Linear     | 401 K  | train\n",
      "2 | dropout     | Dropout    | 0      | train\n",
      "3 | fc2         | Linear     | 2.6 K  | train\n",
      "---------------------------------------------------\n",
      "589 K     Trainable params\n",
      "0         Non-trainable params\n",
      "589 K     Total params\n",
      "2.359     Total estimated model params size (MB)\n",
      "29        Modules in train mode\n",
      "0         Modules in eval mode\n",
      "wandb: WARNING Config item 'dense_neurons' was locked by 'sweep' (ignored update).\n",
      "wandb: WARNING Config item 'learning_rate' was locked by 'sweep' (ignored update).\n",
      "wandb: WARNING Config item 'use_batch_norm' was locked by 'sweep' (ignored update).\n",
      "wandb: WARNING Config item 'dropout_rate' was locked by 'sweep' (ignored update).\n"
     ]
    },
    {
     "data": {
      "application/vnd.jupyter.widget-view+json": {
       "model_id": "0849b3c9dbb34b1ab4f748db9ae3eb64",
       "version_major": 2,
       "version_minor": 0
      },
      "text/plain": [
       "Sanity Checking: |          | 0/? [00:00<?, ?it/s]"
      ]
     },
     "metadata": {},
     "output_type": "display_data"
    },
    {
     "data": {
      "application/vnd.jupyter.widget-view+json": {
       "model_id": "99becc392bda451abbbc1a3938a10c3f",
       "version_major": 2,
       "version_minor": 0
      },
      "text/plain": [
       "Training: |          | 0/? [00:00<?, ?it/s]"
      ]
     },
     "metadata": {},
     "output_type": "display_data"
    },
    {
     "data": {
      "application/vnd.jupyter.widget-view+json": {
       "model_id": "caf20af17cce4bf090980a28ed2cd0a3",
       "version_major": 2,
       "version_minor": 0
      },
      "text/plain": [
       "Validation: |          | 0/? [00:00<?, ?it/s]"
      ]
     },
     "metadata": {},
     "output_type": "display_data"
    },
    {
     "data": {
      "application/vnd.jupyter.widget-view+json": {
       "model_id": "674e24e2c8894a4a8812468f525fa089",
       "version_major": 2,
       "version_minor": 0
      },
      "text/plain": [
       "Validation: |          | 0/? [00:00<?, ?it/s]"
      ]
     },
     "metadata": {},
     "output_type": "display_data"
    },
    {
     "data": {
      "application/vnd.jupyter.widget-view+json": {
       "model_id": "cc3cb6e483804feb9a4b9900082a4dad",
       "version_major": 2,
       "version_minor": 0
      },
      "text/plain": [
       "Validation: |          | 0/? [00:00<?, ?it/s]"
      ]
     },
     "metadata": {},
     "output_type": "display_data"
    },
    {
     "data": {
      "application/vnd.jupyter.widget-view+json": {
       "model_id": "d6167582f2d54b30be5ab9f935569d57",
       "version_major": 2,
       "version_minor": 0
      },
      "text/plain": [
       "Validation: |          | 0/? [00:00<?, ?it/s]"
      ]
     },
     "metadata": {},
     "output_type": "display_data"
    },
    {
     "data": {
      "application/vnd.jupyter.widget-view+json": {
       "model_id": "fea9f64c63a94163aeb65cce86e126e8",
       "version_major": 2,
       "version_minor": 0
      },
      "text/plain": [
       "Validation: |          | 0/? [00:00<?, ?it/s]"
      ]
     },
     "metadata": {},
     "output_type": "display_data"
    },
    {
     "data": {
      "application/vnd.jupyter.widget-view+json": {
       "model_id": "766332edae36468eb38dcbfecf0e87e4",
       "version_major": 2,
       "version_minor": 0
      },
      "text/plain": [
       "Validation: |          | 0/? [00:00<?, ?it/s]"
      ]
     },
     "metadata": {},
     "output_type": "display_data"
    },
    {
     "data": {
      "application/vnd.jupyter.widget-view+json": {
       "model_id": "437abb429a774aa9893dac93f7bb2c38",
       "version_major": 2,
       "version_minor": 0
      },
      "text/plain": [
       "Validation: |          | 0/? [00:00<?, ?it/s]"
      ]
     },
     "metadata": {},
     "output_type": "display_data"
    },
    {
     "data": {
      "application/vnd.jupyter.widget-view+json": {
       "model_id": "31b948e2fdf34291879e9c121ad0ec42",
       "version_major": 2,
       "version_minor": 0
      },
      "text/plain": [
       "Validation: |          | 0/? [00:00<?, ?it/s]"
      ]
     },
     "metadata": {},
     "output_type": "display_data"
    },
    {
     "data": {
      "application/vnd.jupyter.widget-view+json": {
       "model_id": "76925ee042764d3090a71708b310051a",
       "version_major": 2,
       "version_minor": 0
      },
      "text/plain": [
       "Validation: |          | 0/? [00:00<?, ?it/s]"
      ]
     },
     "metadata": {},
     "output_type": "display_data"
    },
    {
     "data": {
      "application/vnd.jupyter.widget-view+json": {
       "model_id": "cd5dc656903a4d37a2a08f25fc5a4ced",
       "version_major": 2,
       "version_minor": 0
      },
      "text/plain": [
       "Validation: |          | 0/? [00:00<?, ?it/s]"
      ]
     },
     "metadata": {},
     "output_type": "display_data"
    },
    {
     "name": "stderr",
     "output_type": "stream",
     "text": [
      "`Trainer.fit` stopped: `max_epochs=10` reached.\n",
      "LOCAL_RANK: 0 - CUDA_VISIBLE_DEVICES: [0]\n",
      "wandb: WARNING Config item 'dense_neurons' was locked by 'sweep' (ignored update).\n",
      "wandb: WARNING Config item 'learning_rate' was locked by 'sweep' (ignored update).\n",
      "wandb: WARNING Config item 'use_batch_norm' was locked by 'sweep' (ignored update).\n",
      "wandb: WARNING Config item 'dropout_rate' was locked by 'sweep' (ignored update).\n"
     ]
    },
    {
     "data": {
      "application/vnd.jupyter.widget-view+json": {
       "model_id": "c3b92537e59a443cbcbfb85d53a37309",
       "version_major": 2,
       "version_minor": 0
      },
      "text/plain": [
       "Testing: |          | 0/? [00:00<?, ?it/s]"
      ]
     },
     "metadata": {},
     "output_type": "display_data"
    },
    {
     "data": {
      "text/html": [
       "<pre style=\"white-space:pre;overflow-x:auto;line-height:normal;font-family:Menlo,'DejaVu Sans Mono',consolas,'Courier New',monospace\">┏━━━━━━━━━━━━━━━━━━━━━━━━━━━┳━━━━━━━━━━━━━━━━━━━━━━━━━━━┓\n",
       "┃<span style=\"font-weight: bold\">        Test metric        </span>┃<span style=\"font-weight: bold\">       DataLoader 0        </span>┃\n",
       "┡━━━━━━━━━━━━━━━━━━━━━━━━━━━╇━━━━━━━━━━━━━━━━━━━━━━━━━━━┩\n",
       "│<span style=\"color: #008080; text-decoration-color: #008080\">         test_acc          </span>│<span style=\"color: #800080; text-decoration-color: #800080\">    0.3070000112056732     </span>│\n",
       "│<span style=\"color: #008080; text-decoration-color: #008080\">         test_loss         </span>│<span style=\"color: #800080; text-decoration-color: #800080\">    2.0052859783172607     </span>│\n",
       "└───────────────────────────┴───────────────────────────┘\n",
       "</pre>\n"
      ],
      "text/plain": [
       "┏━━━━━━━━━━━━━━━━━━━━━━━━━━━┳━━━━━━━━━━━━━━━━━━━━━━━━━━━┓\n",
       "┃\u001b[1m \u001b[0m\u001b[1m       Test metric       \u001b[0m\u001b[1m \u001b[0m┃\u001b[1m \u001b[0m\u001b[1m      DataLoader 0       \u001b[0m\u001b[1m \u001b[0m┃\n",
       "┡━━━━━━━━━━━━━━━━━━━━━━━━━━━╇━━━━━━━━━━━━━━━━━━━━━━━━━━━┩\n",
       "│\u001b[36m \u001b[0m\u001b[36m        test_acc         \u001b[0m\u001b[36m \u001b[0m│\u001b[35m \u001b[0m\u001b[35m   0.3070000112056732    \u001b[0m\u001b[35m \u001b[0m│\n",
       "│\u001b[36m \u001b[0m\u001b[36m        test_loss        \u001b[0m\u001b[36m \u001b[0m│\u001b[35m \u001b[0m\u001b[35m   2.0052859783172607    \u001b[0m\u001b[35m \u001b[0m│\n",
       "└───────────────────────────┴───────────────────────────┘\n"
      ]
     },
     "metadata": {},
     "output_type": "display_data"
    },
    {
     "data": {
      "text/html": [],
      "text/plain": [
       "<IPython.core.display.HTML object>"
      ]
     },
     "metadata": {},
     "output_type": "display_data"
    },
    {
     "data": {
      "text/html": [
       "<br>    <style><br>        .wandb-row {<br>            display: flex;<br>            flex-direction: row;<br>            flex-wrap: wrap;<br>            justify-content: flex-start;<br>            width: 100%;<br>        }<br>        .wandb-col {<br>            display: flex;<br>            flex-direction: column;<br>            flex-basis: 100%;<br>            flex: 1;<br>            padding: 10px;<br>        }<br>    </style><br><div class=\"wandb-row\"><div class=\"wandb-col\"><h3>Run history:</h3><br/><table class=\"wandb\"><tr><td>epoch</td><td>▁▁▁▁▂▂▂▂▃▃▃▃▃▃▃▃▄▄▄▄▅▅▅▅▆▆▆▆▆▆▆▆▇▇▇█████</td></tr><tr><td>test_acc</td><td>▁▁</td></tr><tr><td>test_loss</td><td>▁▁</td></tr><tr><td>train_acc_epoch</td><td>▁▃▅▆▇▇▇███</td></tr><tr><td>train_acc_step</td><td>▃▁▃▃▁▇▁▂▇▄▄▇█▅▄▅▆▄▅▇▅▆▅▆▅</td></tr><tr><td>train_loss_epoch</td><td>█▆▅▄▃▂▂▁▁▁</td></tr><tr><td>train_loss_step</td><td>█▇▇▇▅▅█▇▃▅▇▇▃▆▇▅▃▅▆▆▆▁▅▁▃</td></tr><tr><td>trainer/global_step</td><td>▁▁▁▁▂▂▂▂▂▃▃▃▃▃▄▄▄▄▄▄▅▅▅▅▅▆▆▆▆▇▇▇▇▇▇▇████</td></tr><tr><td>val_acc</td><td>▁▄▅▅▆▆▇▇▇█</td></tr><tr><td>val_loss</td><td>█▆▄▃▃▂▂▂▁▁</td></tr></table><br/></div><div class=\"wandb-col\"><h3>Run summary:</h3><br/><table class=\"wandb\"><tr><td>epoch</td><td>10</td></tr><tr><td>test_acc</td><td>0.307</td></tr><tr><td>test_loss</td><td>2.00529</td></tr><tr><td>train_acc_epoch</td><td>0.24316</td></tr><tr><td>train_acc_step</td><td>0.20635</td></tr><tr><td>train_loss_epoch</td><td>2.11525</td></tr><tr><td>train_loss_step</td><td>2.04176</td></tr><tr><td>trainer/global_step</td><td>1250</td></tr><tr><td>val_acc</td><td>0.306</td></tr><tr><td>val_loss</td><td>2.00273</td></tr></table><br/></div></div>"
      ],
      "text/plain": [
       "<IPython.core.display.HTML object>"
      ]
     },
     "metadata": {},
     "output_type": "display_data"
    },
    {
     "data": {
      "text/html": [
       " View run <strong style=\"color:#cdcd00\">ancient-sweep-62</strong> at: <a href='https://wandb.ai/bullseye2608-indian-institute-of-technology-madras/inaturalist-cnn/runs/rnrszvox' target=\"_blank\">https://wandb.ai/bullseye2608-indian-institute-of-technology-madras/inaturalist-cnn/runs/rnrszvox</a><br> View project at: <a href='https://wandb.ai/bullseye2608-indian-institute-of-technology-madras/inaturalist-cnn' target=\"_blank\">https://wandb.ai/bullseye2608-indian-institute-of-technology-madras/inaturalist-cnn</a><br>Synced 5 W&B file(s), 0 media file(s), 0 artifact file(s) and 0 other file(s)"
      ],
      "text/plain": [
       "<IPython.core.display.HTML object>"
      ]
     },
     "metadata": {},
     "output_type": "display_data"
    },
    {
     "data": {
      "text/html": [
       "Find logs at: <code>.\\wandb\\run-20250418_131245-rnrszvox\\logs</code>"
      ],
      "text/plain": [
       "<IPython.core.display.HTML object>"
      ]
     },
     "metadata": {},
     "output_type": "display_data"
    },
    {
     "name": "stderr",
     "output_type": "stream",
     "text": [
      "wandb: Agent Starting Run: oofm7r64 with config:\n",
      "wandb: \tactivation: leaky_relu\n",
      "wandb: \tbatch_size: 64\n",
      "wandb: \tconv_filters_pattern: 32,64,128,64,32\n",
      "wandb: \tdense_neurons: 256\n",
      "wandb: \tdropout_rate: 0\n",
      "wandb: \tlearning_rate: 0.00028260182631515915\n",
      "wandb: \tuse_batch_norm: True\n",
      "wandb: \tuse_data_augmentation: False\n"
     ]
    },
    {
     "data": {
      "text/html": [
       "Tracking run with wandb version 0.19.7"
      ],
      "text/plain": [
       "<IPython.core.display.HTML object>"
      ]
     },
     "metadata": {},
     "output_type": "display_data"
    },
    {
     "data": {
      "text/html": [
       "Run data is saved locally in <code>c:\\Users\\DELL\\Desktop\\Coding\\Python\\DL\\Assignment 2\\da6401_assignment2\\partA\\wandb\\run-20250418_133649-oofm7r64</code>"
      ],
      "text/plain": [
       "<IPython.core.display.HTML object>"
      ]
     },
     "metadata": {},
     "output_type": "display_data"
    },
    {
     "data": {
      "text/html": [
       "Syncing run <strong><a href='https://wandb.ai/bullseye2608-indian-institute-of-technology-madras/inaturalist-cnn/runs/oofm7r64' target=\"_blank\">honest-sweep-63</a></strong> to <a href='https://wandb.ai/bullseye2608-indian-institute-of-technology-madras/inaturalist-cnn' target=\"_blank\">Weights & Biases</a> (<a href='https://wandb.me/developer-guide' target=\"_blank\">docs</a>)<br>Sweep page: <a href='https://wandb.ai/bullseye2608-indian-institute-of-technology-madras/inaturalist-cnn/sweeps/kn08nm99' target=\"_blank\">https://wandb.ai/bullseye2608-indian-institute-of-technology-madras/inaturalist-cnn/sweeps/kn08nm99</a>"
      ],
      "text/plain": [
       "<IPython.core.display.HTML object>"
      ]
     },
     "metadata": {},
     "output_type": "display_data"
    },
    {
     "data": {
      "text/html": [
       " View project at <a href='https://wandb.ai/bullseye2608-indian-institute-of-technology-madras/inaturalist-cnn' target=\"_blank\">https://wandb.ai/bullseye2608-indian-institute-of-technology-madras/inaturalist-cnn</a>"
      ],
      "text/plain": [
       "<IPython.core.display.HTML object>"
      ]
     },
     "metadata": {},
     "output_type": "display_data"
    },
    {
     "data": {
      "text/html": [
       " View sweep at <a href='https://wandb.ai/bullseye2608-indian-institute-of-technology-madras/inaturalist-cnn/sweeps/kn08nm99' target=\"_blank\">https://wandb.ai/bullseye2608-indian-institute-of-technology-madras/inaturalist-cnn/sweeps/kn08nm99</a>"
      ],
      "text/plain": [
       "<IPython.core.display.HTML object>"
      ]
     },
     "metadata": {},
     "output_type": "display_data"
    },
    {
     "data": {
      "text/html": [
       " View run at <a href='https://wandb.ai/bullseye2608-indian-institute-of-technology-madras/inaturalist-cnn/runs/oofm7r64' target=\"_blank\">https://wandb.ai/bullseye2608-indian-institute-of-technology-madras/inaturalist-cnn/runs/oofm7r64</a>"
      ],
      "text/plain": [
       "<IPython.core.display.HTML object>"
      ]
     },
     "metadata": {},
     "output_type": "display_data"
    },
    {
     "name": "stderr",
     "output_type": "stream",
     "text": [
      "GPU available: True (cuda), used: True\n",
      "TPU available: False, using: 0 TPU cores\n",
      "HPU available: False, using: 0 HPUs\n",
      "LOCAL_RANK: 0 - CUDA_VISIBLE_DEVICES: [0]\n",
      "\n",
      "  | Name        | Type        | Params | Mode \n",
      "----------------------------------------------------\n",
      "0 | conv_blocks | ModuleList  | 186 K  | train\n",
      "1 | fc1         | Linear      | 401 K  | train\n",
      "2 | bn_fc       | BatchNorm1d | 512    | train\n",
      "3 | fc2         | Linear      | 2.6 K  | train\n",
      "----------------------------------------------------\n",
      "590 K     Trainable params\n",
      "0         Non-trainable params\n",
      "590 K     Total params\n",
      "2.364     Total estimated model params size (MB)\n",
      "29        Modules in train mode\n",
      "0         Modules in eval mode\n",
      "wandb: WARNING Config item 'dense_neurons' was locked by 'sweep' (ignored update).\n",
      "wandb: WARNING Config item 'learning_rate' was locked by 'sweep' (ignored update).\n",
      "wandb: WARNING Config item 'use_batch_norm' was locked by 'sweep' (ignored update).\n",
      "wandb: WARNING Config item 'dropout_rate' was locked by 'sweep' (ignored update).\n"
     ]
    },
    {
     "data": {
      "application/vnd.jupyter.widget-view+json": {
       "model_id": "d57b6a8b1cdd4f3d98d3adf18db2a8a1",
       "version_major": 2,
       "version_minor": 0
      },
      "text/plain": [
       "Sanity Checking: |          | 0/? [00:00<?, ?it/s]"
      ]
     },
     "metadata": {},
     "output_type": "display_data"
    },
    {
     "data": {
      "application/vnd.jupyter.widget-view+json": {
       "model_id": "289da50b3bd144899457465c6063d8ed",
       "version_major": 2,
       "version_minor": 0
      },
      "text/plain": [
       "Training: |          | 0/? [00:00<?, ?it/s]"
      ]
     },
     "metadata": {},
     "output_type": "display_data"
    },
    {
     "data": {
      "application/vnd.jupyter.widget-view+json": {
       "model_id": "b4d0693c6a3246858da400478d2f82f5",
       "version_major": 2,
       "version_minor": 0
      },
      "text/plain": [
       "Validation: |          | 0/? [00:00<?, ?it/s]"
      ]
     },
     "metadata": {},
     "output_type": "display_data"
    },
    {
     "data": {
      "application/vnd.jupyter.widget-view+json": {
       "model_id": "c52866bdc0874b5eb5c394b7de1c125b",
       "version_major": 2,
       "version_minor": 0
      },
      "text/plain": [
       "Validation: |          | 0/? [00:00<?, ?it/s]"
      ]
     },
     "metadata": {},
     "output_type": "display_data"
    },
    {
     "data": {
      "application/vnd.jupyter.widget-view+json": {
       "model_id": "12e65ede6c5643cf9cd46f05b20d0c5a",
       "version_major": 2,
       "version_minor": 0
      },
      "text/plain": [
       "Validation: |          | 0/? [00:00<?, ?it/s]"
      ]
     },
     "metadata": {},
     "output_type": "display_data"
    },
    {
     "data": {
      "application/vnd.jupyter.widget-view+json": {
       "model_id": "5860a085598c4b93943f1451a6ac045c",
       "version_major": 2,
       "version_minor": 0
      },
      "text/plain": [
       "Validation: |          | 0/? [00:00<?, ?it/s]"
      ]
     },
     "metadata": {},
     "output_type": "display_data"
    },
    {
     "data": {
      "application/vnd.jupyter.widget-view+json": {
       "model_id": "2343e9ad729141c38a7e2c86957e7b08",
       "version_major": 2,
       "version_minor": 0
      },
      "text/plain": [
       "Validation: |          | 0/? [00:00<?, ?it/s]"
      ]
     },
     "metadata": {},
     "output_type": "display_data"
    },
    {
     "data": {
      "application/vnd.jupyter.widget-view+json": {
       "model_id": "88f92224050d4889b4cbcb9f394ae04f",
       "version_major": 2,
       "version_minor": 0
      },
      "text/plain": [
       "Validation: |          | 0/? [00:00<?, ?it/s]"
      ]
     },
     "metadata": {},
     "output_type": "display_data"
    },
    {
     "data": {
      "application/vnd.jupyter.widget-view+json": {
       "model_id": "2af73806ddc4458b8c2dac73853d5617",
       "version_major": 2,
       "version_minor": 0
      },
      "text/plain": [
       "Validation: |          | 0/? [00:00<?, ?it/s]"
      ]
     },
     "metadata": {},
     "output_type": "display_data"
    },
    {
     "data": {
      "application/vnd.jupyter.widget-view+json": {
       "model_id": "52190a901a5f4e33be63da5943de9395",
       "version_major": 2,
       "version_minor": 0
      },
      "text/plain": [
       "Validation: |          | 0/? [00:00<?, ?it/s]"
      ]
     },
     "metadata": {},
     "output_type": "display_data"
    },
    {
     "data": {
      "application/vnd.jupyter.widget-view+json": {
       "model_id": "92243b777ca047baa8954d5540e1c360",
       "version_major": 2,
       "version_minor": 0
      },
      "text/plain": [
       "Validation: |          | 0/? [00:00<?, ?it/s]"
      ]
     },
     "metadata": {},
     "output_type": "display_data"
    },
    {
     "data": {
      "application/vnd.jupyter.widget-view+json": {
       "model_id": "728223fc6f484ca0aac0323467e390c5",
       "version_major": 2,
       "version_minor": 0
      },
      "text/plain": [
       "Validation: |          | 0/? [00:00<?, ?it/s]"
      ]
     },
     "metadata": {},
     "output_type": "display_data"
    },
    {
     "name": "stderr",
     "output_type": "stream",
     "text": [
      "`Trainer.fit` stopped: `max_epochs=10` reached.\n",
      "LOCAL_RANK: 0 - CUDA_VISIBLE_DEVICES: [0]\n",
      "wandb: WARNING Config item 'dense_neurons' was locked by 'sweep' (ignored update).\n",
      "wandb: WARNING Config item 'learning_rate' was locked by 'sweep' (ignored update).\n",
      "wandb: WARNING Config item 'use_batch_norm' was locked by 'sweep' (ignored update).\n",
      "wandb: WARNING Config item 'dropout_rate' was locked by 'sweep' (ignored update).\n"
     ]
    },
    {
     "data": {
      "application/vnd.jupyter.widget-view+json": {
       "model_id": "52e4b2f9c9b946bbafdc2afc6e6d2d1b",
       "version_major": 2,
       "version_minor": 0
      },
      "text/plain": [
       "Testing: |          | 0/? [00:00<?, ?it/s]"
      ]
     },
     "metadata": {},
     "output_type": "display_data"
    },
    {
     "data": {
      "text/html": [
       "<pre style=\"white-space:pre;overflow-x:auto;line-height:normal;font-family:Menlo,'DejaVu Sans Mono',consolas,'Courier New',monospace\">┏━━━━━━━━━━━━━━━━━━━━━━━━━━━┳━━━━━━━━━━━━━━━━━━━━━━━━━━━┓\n",
       "┃<span style=\"font-weight: bold\">        Test metric        </span>┃<span style=\"font-weight: bold\">       DataLoader 0        </span>┃\n",
       "┡━━━━━━━━━━━━━━━━━━━━━━━━━━━╇━━━━━━━━━━━━━━━━━━━━━━━━━━━┩\n",
       "│<span style=\"color: #008080; text-decoration-color: #008080\">         test_acc          </span>│<span style=\"color: #800080; text-decoration-color: #800080\">    0.36649999022483826    </span>│\n",
       "│<span style=\"color: #008080; text-decoration-color: #008080\">         test_loss         </span>│<span style=\"color: #800080; text-decoration-color: #800080\">    2.1823177337646484     </span>│\n",
       "└───────────────────────────┴───────────────────────────┘\n",
       "</pre>\n"
      ],
      "text/plain": [
       "┏━━━━━━━━━━━━━━━━━━━━━━━━━━━┳━━━━━━━━━━━━━━━━━━━━━━━━━━━┓\n",
       "┃\u001b[1m \u001b[0m\u001b[1m       Test metric       \u001b[0m\u001b[1m \u001b[0m┃\u001b[1m \u001b[0m\u001b[1m      DataLoader 0       \u001b[0m\u001b[1m \u001b[0m┃\n",
       "┡━━━━━━━━━━━━━━━━━━━━━━━━━━━╇━━━━━━━━━━━━━━━━━━━━━━━━━━━┩\n",
       "│\u001b[36m \u001b[0m\u001b[36m        test_acc         \u001b[0m\u001b[36m \u001b[0m│\u001b[35m \u001b[0m\u001b[35m   0.36649999022483826   \u001b[0m\u001b[35m \u001b[0m│\n",
       "│\u001b[36m \u001b[0m\u001b[36m        test_loss        \u001b[0m\u001b[36m \u001b[0m│\u001b[35m \u001b[0m\u001b[35m   2.1823177337646484    \u001b[0m\u001b[35m \u001b[0m│\n",
       "└───────────────────────────┴───────────────────────────┘\n"
      ]
     },
     "metadata": {},
     "output_type": "display_data"
    },
    {
     "data": {
      "text/html": [],
      "text/plain": [
       "<IPython.core.display.HTML object>"
      ]
     },
     "metadata": {},
     "output_type": "display_data"
    },
    {
     "data": {
      "text/html": [
       "<br>    <style><br>        .wandb-row {<br>            display: flex;<br>            flex-direction: row;<br>            flex-wrap: wrap;<br>            justify-content: flex-start;<br>            width: 100%;<br>        }<br>        .wandb-col {<br>            display: flex;<br>            flex-direction: column;<br>            flex-basis: 100%;<br>            flex: 1;<br>            padding: 10px;<br>        }<br>    </style><br><div class=\"wandb-row\"><div class=\"wandb-col\"><h3>Run history:</h3><br/><table class=\"wandb\"><tr><td>epoch</td><td>▁▁▁▁▂▂▂▂▃▃▃▃▃▃▃▃▄▄▄▄▅▅▅▅▆▆▆▆▆▆▆▆▇▇▇█████</td></tr><tr><td>test_acc</td><td>▁▁</td></tr><tr><td>test_loss</td><td>▁▁</td></tr><tr><td>train_acc_epoch</td><td>▁▂▃▃▄▅▆▇▇█</td></tr><tr><td>train_acc_step</td><td>▁▁▂▃▁▃▃▃▃▃▄▄▅▆▄▅▆▇▆▆▇▆███</td></tr><tr><td>train_loss_epoch</td><td>█▇▆▆▅▄▃▂▂▁</td></tr><tr><td>train_loss_step</td><td>██▇▇▇▆▆▆▆▆▅▅▅▄▅▄▃▂▃▃▂▂▁▁▁</td></tr><tr><td>trainer/global_step</td><td>▁▁▁▁▂▂▂▂▂▃▃▃▃▃▄▄▄▄▄▄▅▅▅▅▅▆▆▆▆▇▇▇▇▇▇▇████</td></tr><tr><td>val_acc</td><td>▁▇█▇▇▅▄▆▅▅</td></tr><tr><td>val_loss</td><td>▃▁▁▂▂▄▄▅▇█</td></tr></table><br/></div><div class=\"wandb-col\"><h3>Run summary:</h3><br/><table class=\"wandb\"><tr><td>epoch</td><td>10</td></tr><tr><td>test_acc</td><td>0.3665</td></tr><tr><td>test_loss</td><td>2.18232</td></tr><tr><td>train_acc_epoch</td><td>0.92749</td></tr><tr><td>train_acc_step</td><td>0.95238</td></tr><tr><td>train_loss_epoch</td><td>0.35942</td></tr><tr><td>train_loss_step</td><td>0.36553</td></tr><tr><td>trainer/global_step</td><td>1250</td></tr><tr><td>val_acc</td><td>0.3475</td></tr><tr><td>val_loss</td><td>2.27758</td></tr></table><br/></div></div>"
      ],
      "text/plain": [
       "<IPython.core.display.HTML object>"
      ]
     },
     "metadata": {},
     "output_type": "display_data"
    },
    {
     "data": {
      "text/html": [
       " View run <strong style=\"color:#cdcd00\">honest-sweep-63</strong> at: <a href='https://wandb.ai/bullseye2608-indian-institute-of-technology-madras/inaturalist-cnn/runs/oofm7r64' target=\"_blank\">https://wandb.ai/bullseye2608-indian-institute-of-technology-madras/inaturalist-cnn/runs/oofm7r64</a><br> View project at: <a href='https://wandb.ai/bullseye2608-indian-institute-of-technology-madras/inaturalist-cnn' target=\"_blank\">https://wandb.ai/bullseye2608-indian-institute-of-technology-madras/inaturalist-cnn</a><br>Synced 5 W&B file(s), 0 media file(s), 0 artifact file(s) and 0 other file(s)"
      ],
      "text/plain": [
       "<IPython.core.display.HTML object>"
      ]
     },
     "metadata": {},
     "output_type": "display_data"
    },
    {
     "data": {
      "text/html": [
       "Find logs at: <code>.\\wandb\\run-20250418_133649-oofm7r64\\logs</code>"
      ],
      "text/plain": [
       "<IPython.core.display.HTML object>"
      ]
     },
     "metadata": {},
     "output_type": "display_data"
    },
    {
     "name": "stderr",
     "output_type": "stream",
     "text": [
      "wandb: Agent Starting Run: mcyjktvo with config:\n",
      "wandb: \tactivation: elu\n",
      "wandb: \tbatch_size: 128\n",
      "wandb: \tconv_filters_pattern: 64,64,64,64,64\n",
      "wandb: \tdense_neurons: 512\n",
      "wandb: \tdropout_rate: 0.5\n",
      "wandb: \tlearning_rate: 0.003172587524322519\n",
      "wandb: \tuse_batch_norm: True\n",
      "wandb: \tuse_data_augmentation: False\n"
     ]
    },
    {
     "data": {
      "text/html": [
       "Tracking run with wandb version 0.19.7"
      ],
      "text/plain": [
       "<IPython.core.display.HTML object>"
      ]
     },
     "metadata": {},
     "output_type": "display_data"
    },
    {
     "data": {
      "text/html": [
       "Run data is saved locally in <code>c:\\Users\\DELL\\Desktop\\Coding\\Python\\DL\\Assignment 2\\da6401_assignment2\\partA\\wandb\\run-20250418_134228-mcyjktvo</code>"
      ],
      "text/plain": [
       "<IPython.core.display.HTML object>"
      ]
     },
     "metadata": {},
     "output_type": "display_data"
    },
    {
     "data": {
      "text/html": [
       "Syncing run <strong><a href='https://wandb.ai/bullseye2608-indian-institute-of-technology-madras/inaturalist-cnn/runs/mcyjktvo' target=\"_blank\">sunny-sweep-64</a></strong> to <a href='https://wandb.ai/bullseye2608-indian-institute-of-technology-madras/inaturalist-cnn' target=\"_blank\">Weights & Biases</a> (<a href='https://wandb.me/developer-guide' target=\"_blank\">docs</a>)<br>Sweep page: <a href='https://wandb.ai/bullseye2608-indian-institute-of-technology-madras/inaturalist-cnn/sweeps/kn08nm99' target=\"_blank\">https://wandb.ai/bullseye2608-indian-institute-of-technology-madras/inaturalist-cnn/sweeps/kn08nm99</a>"
      ],
      "text/plain": [
       "<IPython.core.display.HTML object>"
      ]
     },
     "metadata": {},
     "output_type": "display_data"
    },
    {
     "data": {
      "text/html": [
       " View project at <a href='https://wandb.ai/bullseye2608-indian-institute-of-technology-madras/inaturalist-cnn' target=\"_blank\">https://wandb.ai/bullseye2608-indian-institute-of-technology-madras/inaturalist-cnn</a>"
      ],
      "text/plain": [
       "<IPython.core.display.HTML object>"
      ]
     },
     "metadata": {},
     "output_type": "display_data"
    },
    {
     "data": {
      "text/html": [
       " View sweep at <a href='https://wandb.ai/bullseye2608-indian-institute-of-technology-madras/inaturalist-cnn/sweeps/kn08nm99' target=\"_blank\">https://wandb.ai/bullseye2608-indian-institute-of-technology-madras/inaturalist-cnn/sweeps/kn08nm99</a>"
      ],
      "text/plain": [
       "<IPython.core.display.HTML object>"
      ]
     },
     "metadata": {},
     "output_type": "display_data"
    },
    {
     "data": {
      "text/html": [
       " View run at <a href='https://wandb.ai/bullseye2608-indian-institute-of-technology-madras/inaturalist-cnn/runs/mcyjktvo' target=\"_blank\">https://wandb.ai/bullseye2608-indian-institute-of-technology-madras/inaturalist-cnn/runs/mcyjktvo</a>"
      ],
      "text/plain": [
       "<IPython.core.display.HTML object>"
      ]
     },
     "metadata": {},
     "output_type": "display_data"
    },
    {
     "name": "stderr",
     "output_type": "stream",
     "text": [
      "GPU available: True (cuda), used: True\n",
      "TPU available: False, using: 0 TPU cores\n",
      "HPU available: False, using: 0 HPUs\n",
      "LOCAL_RANK: 0 - CUDA_VISIBLE_DEVICES: [0]\n",
      "\n",
      "  | Name        | Type        | Params | Mode \n",
      "----------------------------------------------------\n",
      "0 | conv_blocks | ModuleList  | 150 K  | train\n",
      "1 | fc1         | Linear      | 1.6 M  | train\n",
      "2 | bn_fc       | BatchNorm1d | 1.0 K  | train\n",
      "3 | dropout     | Dropout     | 0      | train\n",
      "4 | fc2         | Linear      | 5.1 K  | train\n",
      "----------------------------------------------------\n",
      "1.8 M     Trainable params\n",
      "0         Non-trainable params\n",
      "1.8 M     Total params\n",
      "7.050     Total estimated model params size (MB)\n",
      "35        Modules in train mode\n",
      "0         Modules in eval mode\n",
      "wandb: WARNING Config item 'dense_neurons' was locked by 'sweep' (ignored update).\n",
      "wandb: WARNING Config item 'learning_rate' was locked by 'sweep' (ignored update).\n",
      "wandb: WARNING Config item 'use_batch_norm' was locked by 'sweep' (ignored update).\n",
      "wandb: WARNING Config item 'dropout_rate' was locked by 'sweep' (ignored update).\n"
     ]
    },
    {
     "data": {
      "application/vnd.jupyter.widget-view+json": {
       "model_id": "a51ceed536f64ba4b94d795731de6293",
       "version_major": 2,
       "version_minor": 0
      },
      "text/plain": [
       "Sanity Checking: |          | 0/? [00:00<?, ?it/s]"
      ]
     },
     "metadata": {},
     "output_type": "display_data"
    },
    {
     "data": {
      "application/vnd.jupyter.widget-view+json": {
       "model_id": "4796dbc8b4a44d08aa21cbf7ab46c798",
       "version_major": 2,
       "version_minor": 0
      },
      "text/plain": [
       "Training: |          | 0/? [00:00<?, ?it/s]"
      ]
     },
     "metadata": {},
     "output_type": "display_data"
    },
    {
     "data": {
      "application/vnd.jupyter.widget-view+json": {
       "model_id": "0c0cea937d904026ae3907122bc2b68e",
       "version_major": 2,
       "version_minor": 0
      },
      "text/plain": [
       "Validation: |          | 0/? [00:00<?, ?it/s]"
      ]
     },
     "metadata": {},
     "output_type": "display_data"
    },
    {
     "data": {
      "application/vnd.jupyter.widget-view+json": {
       "model_id": "800ad4c6dff647f087e4952b83caea13",
       "version_major": 2,
       "version_minor": 0
      },
      "text/plain": [
       "Validation: |          | 0/? [00:00<?, ?it/s]"
      ]
     },
     "metadata": {},
     "output_type": "display_data"
    },
    {
     "data": {
      "application/vnd.jupyter.widget-view+json": {
       "model_id": "6e00b5513b7b40b59fa811e0de3eccc1",
       "version_major": 2,
       "version_minor": 0
      },
      "text/plain": [
       "Validation: |          | 0/? [00:00<?, ?it/s]"
      ]
     },
     "metadata": {},
     "output_type": "display_data"
    },
    {
     "data": {
      "application/vnd.jupyter.widget-view+json": {
       "model_id": "8c2551075d1e4744af7a5db4542e7afd",
       "version_major": 2,
       "version_minor": 0
      },
      "text/plain": [
       "Validation: |          | 0/? [00:00<?, ?it/s]"
      ]
     },
     "metadata": {},
     "output_type": "display_data"
    },
    {
     "data": {
      "application/vnd.jupyter.widget-view+json": {
       "model_id": "78b5f7f9692340e390986af54c1a8247",
       "version_major": 2,
       "version_minor": 0
      },
      "text/plain": [
       "Validation: |          | 0/? [00:00<?, ?it/s]"
      ]
     },
     "metadata": {},
     "output_type": "display_data"
    },
    {
     "data": {
      "application/vnd.jupyter.widget-view+json": {
       "model_id": "2c551624feb64537afbfb13aef187154",
       "version_major": 2,
       "version_minor": 0
      },
      "text/plain": [
       "Validation: |          | 0/? [00:00<?, ?it/s]"
      ]
     },
     "metadata": {},
     "output_type": "display_data"
    }
   ],
   "source": [
    "cont_sweep_id = 'bullseye2608-indian-institute-of-technology-madras/inaturalist-cnn/kn08nm99'\n",
    "wandb.agent(cont_sweep_id, train, count=50)"
   ]
  },
  {
   "cell_type": "code",
   "execution_count": null,
   "id": "bd7054d0",
   "metadata": {},
   "outputs": [],
   "source": []
  }
 ],
 "metadata": {
  "kernelspec": {
   "display_name": "DL",
   "language": "python",
   "name": "python3"
  },
  "language_info": {
   "codemirror_mode": {
    "name": "ipython",
    "version": 3
   },
   "file_extension": ".py",
   "mimetype": "text/x-python",
   "name": "python",
   "nbconvert_exporter": "python",
   "pygments_lexer": "ipython3",
   "version": "3.10.14"
  }
 },
 "nbformat": 4,
 "nbformat_minor": 5
}
