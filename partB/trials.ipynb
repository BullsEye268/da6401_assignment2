{
 "cells": [
  {
   "cell_type": "code",
   "execution_count": 1,
   "metadata": {},
   "outputs": [],
   "source": [
    "import os\n",
    "import torch\n",
    "import torch.nn as nn\n",
    "import torch.nn.functional as F\n",
    "from torch.utils.data import DataLoader, random_split\n",
    "import torchvision\n",
    "from torchvision import transforms\n",
    "from torchvision.models import efficientnet_v2_s, EfficientNet_V2_S_Weights\n",
    "import pytorch_lightning as pl\n",
    "from pytorch_lightning.loggers import WandbLogger\n",
    "from pytorch_lightning.callbacks import ModelCheckpoint, EarlyStopping\n",
    "import wandb\n",
    "\n",
    "from utils import *"
   ]
  },
  {
   "cell_type": "code",
   "execution_count": 2,
   "metadata": {},
   "outputs": [],
   "source": [
    "NUM_CLASSES = 10\n",
    "BATCH_SIZE = 32\n",
    "NUM_WORKERS = 4\n",
    "MAX_EPOCHS = 10\n",
    "LEARNING_RATE = 3e-4\n",
    "FEATURE_LEARNING_RATE = 1e-5"
   ]
  },
  {
   "cell_type": "code",
   "execution_count": 3,
   "metadata": {},
   "outputs": [],
   "source": [
    "class FineTunedEfficientNet(pl.LightningModule):\n",
    "    def __init__(self, num_classes=10, learning_rate=3e-4, feature_learning_rate=1e-5):\n",
    "        super().__init__()\n",
    "        self.learning_rate = learning_rate\n",
    "        self.feature_learning_rate = feature_learning_rate\n",
    "        \n",
    "        # Load pre-trained model\n",
    "        self.model = efficientnet_v2_s(weights=EfficientNet_V2_S_Weights.IMAGENET1K_V1)\n",
    "        \n",
    "        # Freeze early layers (first 4 blocks)\n",
    "        for i, block in enumerate(self.model.features):\n",
    "            if i < 4:  # Freeze first 4 blocks\n",
    "                for param in block.parameters():\n",
    "                    param.requires_grad = False\n",
    "        \n",
    "        # Replace classifier with new one for our classes\n",
    "        num_features = self.model.classifier[1].in_features\n",
    "        self.model.classifier[1] = nn.Linear(num_features, num_classes)\n",
    "        \n",
    "        # Save hyperparameters for checkpointing\n",
    "        self.save_hyperparameters()\n",
    "    \n",
    "    def forward(self, x):\n",
    "        return self.model(x)\n",
    "    \n",
    "    def training_step(self, batch, batch_idx):\n",
    "        x, y = batch\n",
    "        logits = self(x)\n",
    "        loss = F.cross_entropy(logits, y)\n",
    "        \n",
    "        # Log metrics\n",
    "        preds = torch.argmax(logits, dim=1)\n",
    "        acc = (preds == y).float().mean()\n",
    "        self.log('train_loss', loss, on_step=True, on_epoch=True, prog_bar=True)\n",
    "        self.log('train_acc', acc, on_step=True, on_epoch=True, prog_bar=True)\n",
    "        \n",
    "        return loss\n",
    "    \n",
    "    def validation_step(self, batch, batch_idx):\n",
    "        x, y = batch\n",
    "        logits = self(x)\n",
    "        loss = F.cross_entropy(logits, y)\n",
    "        \n",
    "        # Log metrics\n",
    "        preds = torch.argmax(logits, dim=1)\n",
    "        acc = (preds == y).float().mean()\n",
    "        self.log('val_loss', loss, prog_bar=True)\n",
    "        self.log('val_acc', acc, prog_bar=True)\n",
    "        \n",
    "        return loss\n",
    "    \n",
    "    def test_step(self, batch, batch_idx):\n",
    "        x, y = batch\n",
    "        logits = self(x)\n",
    "        loss = F.cross_entropy(logits, y)\n",
    "        \n",
    "        # Log metrics\n",
    "        preds = torch.argmax(logits, dim=1)\n",
    "        acc = (preds == y).float().mean()\n",
    "        self.log('test_loss', loss)\n",
    "        self.log('test_acc', acc)\n",
    "        \n",
    "        return loss\n",
    "    \n",
    "    def configure_optimizers(self):\n",
    "        # Use different learning rates for pre-trained feature layers and new classifier\n",
    "        classifier_params = self.model.classifier.parameters()\n",
    "        feature_params = self.model.features.parameters()\n",
    "        \n",
    "        optimizer = torch.optim.AdamW([\n",
    "            {'params': classifier_params, 'lr': self.learning_rate},\n",
    "            {'params': feature_params, 'lr': self.feature_learning_rate}\n",
    "        ])\n",
    "        \n",
    "        # Learning rate scheduler\n",
    "        scheduler = torch.optim.lr_scheduler.ReduceLROnPlateau(\n",
    "            optimizer, mode='min', factor=0.5, patience=3, verbose=True\n",
    "        )\n",
    "        \n",
    "        return {\n",
    "            'optimizer': optimizer,\n",
    "            'lr_scheduler': {\n",
    "                'scheduler': scheduler,\n",
    "                'monitor': 'val_loss',\n",
    "                'interval': 'epoch'\n",
    "            }\n",
    "        }"
   ]
  },
  {
   "cell_type": "code",
   "execution_count": 4,
   "metadata": {},
   "outputs": [
    {
     "name": "stderr",
     "output_type": "stream",
     "text": [
      "wandb: Using wandb-core as the SDK backend.  Please refer to https://wandb.me/wandb-core for more information.\n",
      "wandb: Currently logged in as: bullseye2608 (bullseye2608-indian-institute-of-technology-madras) to https://api.wandb.ai. Use `wandb login --relogin` to force relogin\n"
     ]
    },
    {
     "data": {
      "text/html": [
       "Tracking run with wandb version 0.19.7"
      ],
      "text/plain": [
       "<IPython.core.display.HTML object>"
      ]
     },
     "metadata": {},
     "output_type": "display_data"
    },
    {
     "data": {
      "text/html": [
       "Run data is saved locally in <code>c:\\Users\\DELL\\Desktop\\Coding\\Python\\DL\\Assignment 2\\da6401_assignment2\\partB\\wandb\\run-20250418_230452-sirgtxvq</code>"
      ],
      "text/plain": [
       "<IPython.core.display.HTML object>"
      ]
     },
     "metadata": {},
     "output_type": "display_data"
    },
    {
     "data": {
      "text/html": [
       "Syncing run <strong><a href='https://wandb.ai/bullseye2608-indian-institute-of-technology-madras/inaturalist-comparison/runs/sirgtxvq' target=\"_blank\">vital-dust-4</a></strong> to <a href='https://wandb.ai/bullseye2608-indian-institute-of-technology-madras/inaturalist-comparison' target=\"_blank\">Weights & Biases</a> (<a href='https://wandb.me/developer-guide' target=\"_blank\">docs</a>)<br>"
      ],
      "text/plain": [
       "<IPython.core.display.HTML object>"
      ]
     },
     "metadata": {},
     "output_type": "display_data"
    },
    {
     "data": {
      "text/html": [
       " View project at <a href='https://wandb.ai/bullseye2608-indian-institute-of-technology-madras/inaturalist-comparison' target=\"_blank\">https://wandb.ai/bullseye2608-indian-institute-of-technology-madras/inaturalist-comparison</a>"
      ],
      "text/plain": [
       "<IPython.core.display.HTML object>"
      ]
     },
     "metadata": {},
     "output_type": "display_data"
    },
    {
     "data": {
      "text/html": [
       " View run at <a href='https://wandb.ai/bullseye2608-indian-institute-of-technology-madras/inaturalist-comparison/runs/sirgtxvq' target=\"_blank\">https://wandb.ai/bullseye2608-indian-institute-of-technology-madras/inaturalist-comparison/runs/sirgtxvq</a>"
      ],
      "text/plain": [
       "<IPython.core.display.HTML object>"
      ]
     },
     "metadata": {},
     "output_type": "display_data"
    },
    {
     "name": "stdout",
     "output_type": "stream",
     "text": [
      "Training fine-tuned EfficientNetV2...\n"
     ]
    },
    {
     "name": "stderr",
     "output_type": "stream",
     "text": [
      "GPU available: True (cuda), used: True\n",
      "TPU available: False, using: 0 TPU cores\n",
      "HPU available: False, using: 0 HPUs\n"
     ]
    }
   ],
   "source": [
    "# Initialize WandB\n",
    "wandb.init(project=\"inaturalist-comparison\")\n",
    "\n",
    "data_directory = r'C:\\Users\\DELL\\Desktop\\Coding\\Python\\DL\\Assignment 2\\da6401_assignment2\\data\\inaturalist_12K'\n",
    "data_module = iNaturalistDataModule(\n",
    "        data_dir=data_directory,\n",
    "        batch_size=BATCH_SIZE,\n",
    "        use_data_augmentation=True\n",
    "    )\n",
    "data_module.setup()\n",
    "\